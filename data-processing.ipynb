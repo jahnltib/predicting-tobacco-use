{
 "cells": [
  {
   "cell_type": "code",
   "execution_count": null,
   "metadata": {},
   "outputs": [],
   "source": [
    "# initial install\n",
    "%pip install pandas\n",
    "%pip install openpyxl"
   ]
  },
  {
   "cell_type": "code",
   "execution_count": null,
   "metadata": {},
   "outputs": [],
   "source": [
    "# install packages\n",
    "%pip install -r requirements.txt"
   ]
  },
  {
   "cell_type": "code",
   "execution_count": null,
   "metadata": {},
   "outputs": [],
   "source": [
    "# update packages\n",
    "%pip freeze > requirements.txt"
   ]
  },
  {
   "cell_type": "code",
   "execution_count": null,
   "metadata": {},
   "outputs": [],
   "source": [
    "# import packages + load dataframe\n",
    "import pandas as pd\n",
    "\n",
    "# Load CSV file into DataFrame\n",
    "df = pd.read_csv('data.csv')\n"
   ]
  },
  {
   "cell_type": "markdown",
   "metadata": {},
   "source": [
    "# Data Exploration"
   ]
  },
  {
   "cell_type": "code",
   "execution_count": null,
   "metadata": {},
   "outputs": [],
   "source": [
    "# analyze dataframe\n",
    "\n",
    "print(list(df.columns))"
   ]
  },
  {
   "cell_type": "code",
   "execution_count": null,
   "metadata": {},
   "outputs": [],
   "source": [
    "# View ranges of data in each column\n",
    "\n",
    "for col in df.columns:\n",
    "    unique_values = df[col].dropna().unique()  # Drop NaNs if you don’t want them in the list\n",
    "    unique_values_list = [float(val) if isinstance(val, (float, int)) else val for val in unique_values]\n",
    "    print(f\"{col}: {unique_values_list}\")\n"
   ]
  },
  {
   "cell_type": "markdown",
   "metadata": {},
   "source": [
    "# Clean Dataframe"
   ]
  },
  {
   "cell_type": "code",
   "execution_count": null,
   "metadata": {},
   "outputs": [],
   "source": [
    "# 1. Drop rows that aren't questions, or questions that have text values.\n",
    "columns_to_keep = [col for col in df.columns if ('Q' in col or 'QN' in col) and 'TEXT' not in col]\n",
    "columns_to_drop = [col for col in df.columns if col not in columns_to_keep]\n",
    "df = df[columns_to_keep]\n",
    "\n",
    "# Print dropped columns\n",
    "print(\"Dropped columns:\", columns_to_drop)"
   ]
  },
  {
   "cell_type": "code",
   "execution_count": null,
   "metadata": {},
   "outputs": [],
   "source": [
    "# 2. Drop all QN columns\n",
    "\n",
    "columns_to_drop = [col for col in df.columns if col.startswith(\"QN\")]\n",
    "columns_to_keep = [col for col in df.columns if col.startswith(\"Q\") and not col.startswith(\"QN\")]\n",
    "df_old = df[columns_to_drop]\n",
    "df = df[columns_to_keep]\n",
    "\n",
    "print(\"Dropped columns:\", columns_to_drop)\n",
    "print(\"\\n\")\n",
    "print(\"Kept columns:\", columns_to_keep)\n"
   ]
  },
  {
   "cell_type": "code",
   "execution_count": 9,
   "metadata": {},
   "outputs": [],
   "source": [
    "# 3. Merge all multi-choice questions into one column."
   ]
  },
  {
   "cell_type": "code",
   "execution_count": null,
   "metadata": {},
   "outputs": [],
   "source": [
    "# 3: Question 4a\n",
    "\n",
    "# Debug print to display the value counts of Q4a before transformations\n",
    "print(\"Initial value counts in Q4a:\")\n",
    "print(df['Q4a'].value_counts(dropna=False))\n",
    "print(\"Initial value counts in Q4b:\")\n",
    "print(df['Q4b'].value_counts(dropna=False))\n",
    "\n",
    "# Transformation code\n",
    "main_column = 'Q4a'\n",
    "additional_columns = ['Q4b', 'Q4c', 'Q4d', 'Q4e']\n",
    "\n",
    "for index, row in df.iterrows():\n",
    "    for col in additional_columns:\n",
    "        try:\n",
    "            if float(row[col]) == 1.0:\n",
    "                df.at[index, main_column] = col[-1]  # Use suffix (b, c, d, or e)\n",
    "                break\n",
    "        except (ValueError, TypeError):\n",
    "            continue\n",
    "\n",
    "df = df.drop(columns=additional_columns)\n",
    "\n",
    "# Display the updated value counts in Q4a after transformations\n",
    "print(\"Updated value counts in Q4a:\")\n",
    "print(df['Q4a'].value_counts(dropna=False))"
   ]
  },
  {
   "cell_type": "code",
   "execution_count": null,
   "metadata": {},
   "outputs": [],
   "source": [
    "# 3: Question 5\n",
    "\n",
    "# Debug print to display the value counts of QN5A before transformations\n",
    "print(\"Initial value counts in QN5A:\")\n",
    "print(df['Q5a'].value_counts(dropna=False))\n",
    "\n",
    "# Define the main column and additional columns to check for QN5\n",
    "main_column = 'Q5'\n",
    "additional_columns = ['Q5a', 'Q5b', 'Q5c', 'Q5d', 'Q5e']\n",
    "\n",
    "# Initialize QN5 column with values from QN5A where appropriate\n",
    "df[main_column] = df['Q5a']\n",
    "\n",
    "# Transformation logic for QN5\n",
    "for index, row in df.iterrows():\n",
    "    for col in additional_columns:\n",
    "        if not pd.isnull(row[col]) and row[col] != 0:\n",
    "            df.at[index, main_column] = col[-1]  # Set QN5 to the last character of the column name (e.g., 'A' for QN5A)\n",
    "            break\n",
    "\n",
    "# Drop the additional columns\n",
    "df = df.drop(columns=additional_columns)\n",
    "\n",
    "# Display the updated value counts in QN5 after transformations\n",
    "print(\"Updated value counts in Q5:\")\n",
    "print(df['Q5'].value_counts(dropna=False))\n"
   ]
  },
  {
   "cell_type": "code",
   "execution_count": null,
   "metadata": {},
   "outputs": [],
   "source": [
    "# 3: Question 11\n",
    "\n",
    "# Debug print to display the initial value counts in Q11A before transformation\n",
    "print(\"Initial value counts in Q11A:\")\n",
    "print(df['Q11a'].value_counts(dropna=False))\n",
    "\n",
    "# Define the main column and all Q11* columns to check for Q11\n",
    "main_column = 'Q11'\n",
    "additional_columns = ['Q11a', 'Q11b', 'Q11c', 'Q11d', 'Q11e', 'Q11f', 'Q11g', 'Q11h', 'Q11i', 'Q11j', 'Q11k', 'Q11l', 'Q11m', 'Q11n']\n",
    "\n",
    "# Initialize Q11 column with values from Q11A where appropriate\n",
    "df[main_column] = df['Q11a']\n",
    "\n",
    "# Transformation logic for Q11\n",
    "for index, row in df.iterrows():\n",
    "    for col in additional_columns:\n",
    "        if not pd.isnull(row[col]) and row[col] != 0:\n",
    "            df.at[index, main_column] = col[-1].lower()  # Set Q11 to the last character of the column name in lowercase\n",
    "            break\n",
    "\n",
    "# Drop all Q11* columns, leaving only Q11\n",
    "df = df.drop(columns=additional_columns)\n",
    "\n",
    "# Display the updated value counts in Q11 after transformations\n",
    "print(\"Updated value counts in Q11:\")\n",
    "print(df['Q11'].value_counts(dropna=False))"
   ]
  },
  {
   "cell_type": "code",
   "execution_count": null,
   "metadata": {},
   "outputs": [],
   "source": [
    "# Question 12\n",
    "\n",
    "# Debug print to display the initial value counts for each relevant column before transformation\n",
    "print(\"Initial value counts in Q12a:\")\n",
    "print(df['Q12a'].value_counts(dropna=False))\n",
    "\n",
    "# Define the main column and columns to check\n",
    "main_column = 'Q12'\n",
    "additional_columns = ['Q12a', 'Q12b', 'Q12c', 'Q12d', 'Q12e', 'Q12f', 'Q12g', 'Q12h', 'Q12i', 'Q12j', 'Q12k', 'Q12l', 'Q12m', 'Q12n']\n",
    "\n",
    "# Initialize Q12 with NaN or a default value\n",
    "df[main_column] = None\n",
    "\n",
    "# Transformation logic for Q12\n",
    "for index, row in df.iterrows():\n",
    "    assigned_value = False\n",
    "    # Check each column in additional_columns for 1.0, Z, or N values\n",
    "    for col in additional_columns:\n",
    "        if row[col] == 1.0:\n",
    "            df.at[index, main_column] = \"NC1\"  # Set Q12 to \"NC1\" if any column has 1.0\n",
    "            assigned_value = True\n",
    "            break\n",
    "        elif not pd.isnull(row[col]) and row[col] in [\"Z\", \"N\"]:\n",
    "            df.at[index, main_column] = row[col]  # Assign \"Z\" or \"N\" if present in any column\n",
    "            assigned_value = True\n",
    "            break\n",
    "\n",
    "# Drop all Q12* columns, leaving only Q12\n",
    "df = df.drop(columns=additional_columns)\n",
    "\n",
    "# Display the updated value counts in Q12 after transformations\n",
    "print(\"Updated value counts in Q12:\")\n",
    "print(df['Q12'].value_counts(dropna=False))"
   ]
  }
 ],
 "metadata": {
  "kernelspec": {
   "display_name": ".venv",
   "language": "python",
   "name": "python3"
  },
  "language_info": {
   "codemirror_mode": {
    "name": "ipython",
    "version": 3
   },
   "file_extension": ".py",
   "mimetype": "text/x-python",
   "name": "python",
   "nbconvert_exporter": "python",
   "pygments_lexer": "ipython3",
   "version": "3.13.0"
  }
 },
 "nbformat": 4,
 "nbformat_minor": 2
}
