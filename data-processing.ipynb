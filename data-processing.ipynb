{
 "cells": [
  {
   "cell_type": "code",
   "execution_count": 1,
   "metadata": {},
   "outputs": [
    {
     "name": "stdout",
     "output_type": "stream",
     "text": [
      "Requirement already satisfied: pandas in ./.venv/lib/python3.13/site-packages (2.2.3)\n",
      "Requirement already satisfied: numpy>=1.26.0 in ./.venv/lib/python3.13/site-packages (from pandas) (2.1.3)\n",
      "Requirement already satisfied: python-dateutil>=2.8.2 in ./.venv/lib/python3.13/site-packages (from pandas) (2.9.0.post0)\n",
      "Requirement already satisfied: pytz>=2020.1 in ./.venv/lib/python3.13/site-packages (from pandas) (2024.2)\n",
      "Requirement already satisfied: tzdata>=2022.7 in ./.venv/lib/python3.13/site-packages (from pandas) (2024.2)\n",
      "Requirement already satisfied: six>=1.5 in ./.venv/lib/python3.13/site-packages (from python-dateutil>=2.8.2->pandas) (1.16.0)\n",
      "Note: you may need to restart the kernel to use updated packages.\n",
      "Requirement already satisfied: openpyxl in ./.venv/lib/python3.13/site-packages (3.1.5)\n",
      "Requirement already satisfied: et-xmlfile in ./.venv/lib/python3.13/site-packages (from openpyxl) (2.0.0)\n",
      "Note: you may need to restart the kernel to use updated packages.\n"
     ]
    }
   ],
   "source": [
    "# initial install\n",
    "%pip install pandas\n",
    "%pip install openpyxl"
   ]
  },
  {
   "cell_type": "code",
   "execution_count": 2,
   "metadata": {},
   "outputs": [
    {
     "name": "stdout",
     "output_type": "stream",
     "text": [
      "Requirement already satisfied: appnope==0.1.4 in ./.venv/lib/python3.13/site-packages (from -r requirements.txt (line 1)) (0.1.4)\n",
      "Requirement already satisfied: asttokens==2.4.1 in ./.venv/lib/python3.13/site-packages (from -r requirements.txt (line 2)) (2.4.1)\n",
      "Requirement already satisfied: comm==0.2.2 in ./.venv/lib/python3.13/site-packages (from -r requirements.txt (line 3)) (0.2.2)\n",
      "Requirement already satisfied: debugpy==1.8.8 in ./.venv/lib/python3.13/site-packages (from -r requirements.txt (line 4)) (1.8.8)\n",
      "Requirement already satisfied: decorator==5.1.1 in ./.venv/lib/python3.13/site-packages (from -r requirements.txt (line 5)) (5.1.1)\n",
      "Requirement already satisfied: et_xmlfile==2.0.0 in ./.venv/lib/python3.13/site-packages (from -r requirements.txt (line 6)) (2.0.0)\n",
      "Requirement already satisfied: executing==2.1.0 in ./.venv/lib/python3.13/site-packages (from -r requirements.txt (line 7)) (2.1.0)\n",
      "Requirement already satisfied: ipykernel==6.29.5 in ./.venv/lib/python3.13/site-packages (from -r requirements.txt (line 8)) (6.29.5)\n",
      "Requirement already satisfied: ipython==8.29.0 in ./.venv/lib/python3.13/site-packages (from -r requirements.txt (line 9)) (8.29.0)\n",
      "Requirement already satisfied: jedi==0.19.2 in ./.venv/lib/python3.13/site-packages (from -r requirements.txt (line 10)) (0.19.2)\n",
      "Requirement already satisfied: jupyter_client==8.6.3 in ./.venv/lib/python3.13/site-packages (from -r requirements.txt (line 11)) (8.6.3)\n",
      "Requirement already satisfied: jupyter_core==5.7.2 in ./.venv/lib/python3.13/site-packages (from -r requirements.txt (line 12)) (5.7.2)\n",
      "Requirement already satisfied: matplotlib-inline==0.1.7 in ./.venv/lib/python3.13/site-packages (from -r requirements.txt (line 13)) (0.1.7)\n",
      "Requirement already satisfied: nest-asyncio==1.6.0 in ./.venv/lib/python3.13/site-packages (from -r requirements.txt (line 14)) (1.6.0)\n",
      "Requirement already satisfied: numpy==2.1.3 in ./.venv/lib/python3.13/site-packages (from -r requirements.txt (line 15)) (2.1.3)\n",
      "Requirement already satisfied: openpyxl==3.1.5 in ./.venv/lib/python3.13/site-packages (from -r requirements.txt (line 16)) (3.1.5)\n",
      "Requirement already satisfied: packaging==24.2 in ./.venv/lib/python3.13/site-packages (from -r requirements.txt (line 17)) (24.2)\n",
      "Requirement already satisfied: pandas==2.2.3 in ./.venv/lib/python3.13/site-packages (from -r requirements.txt (line 18)) (2.2.3)\n",
      "Requirement already satisfied: parso==0.8.4 in ./.venv/lib/python3.13/site-packages (from -r requirements.txt (line 19)) (0.8.4)\n",
      "Requirement already satisfied: pexpect==4.9.0 in ./.venv/lib/python3.13/site-packages (from -r requirements.txt (line 20)) (4.9.0)\n",
      "Requirement already satisfied: platformdirs==4.3.6 in ./.venv/lib/python3.13/site-packages (from -r requirements.txt (line 21)) (4.3.6)\n",
      "Requirement already satisfied: prompt_toolkit==3.0.48 in ./.venv/lib/python3.13/site-packages (from -r requirements.txt (line 22)) (3.0.48)\n",
      "Requirement already satisfied: psutil==6.1.0 in ./.venv/lib/python3.13/site-packages (from -r requirements.txt (line 23)) (6.1.0)\n",
      "Requirement already satisfied: ptyprocess==0.7.0 in ./.venv/lib/python3.13/site-packages (from -r requirements.txt (line 24)) (0.7.0)\n",
      "Requirement already satisfied: pure_eval==0.2.3 in ./.venv/lib/python3.13/site-packages (from -r requirements.txt (line 25)) (0.2.3)\n",
      "Requirement already satisfied: Pygments==2.18.0 in ./.venv/lib/python3.13/site-packages (from -r requirements.txt (line 26)) (2.18.0)\n",
      "Requirement already satisfied: python-dateutil==2.9.0.post0 in ./.venv/lib/python3.13/site-packages (from -r requirements.txt (line 27)) (2.9.0.post0)\n",
      "Requirement already satisfied: pytz==2024.2 in ./.venv/lib/python3.13/site-packages (from -r requirements.txt (line 28)) (2024.2)\n",
      "Requirement already satisfied: pyzmq==26.2.0 in ./.venv/lib/python3.13/site-packages (from -r requirements.txt (line 29)) (26.2.0)\n",
      "Requirement already satisfied: six==1.16.0 in ./.venv/lib/python3.13/site-packages (from -r requirements.txt (line 30)) (1.16.0)\n",
      "Requirement already satisfied: stack-data==0.6.3 in ./.venv/lib/python3.13/site-packages (from -r requirements.txt (line 31)) (0.6.3)\n",
      "Requirement already satisfied: tornado==6.4.1 in ./.venv/lib/python3.13/site-packages (from -r requirements.txt (line 32)) (6.4.1)\n",
      "Requirement already satisfied: traitlets==5.14.3 in ./.venv/lib/python3.13/site-packages (from -r requirements.txt (line 33)) (5.14.3)\n",
      "Requirement already satisfied: tzdata==2024.2 in ./.venv/lib/python3.13/site-packages (from -r requirements.txt (line 34)) (2024.2)\n",
      "Requirement already satisfied: wcwidth==0.2.13 in ./.venv/lib/python3.13/site-packages (from -r requirements.txt (line 35)) (0.2.13)\n",
      "Note: you may need to restart the kernel to use updated packages.\n"
     ]
    }
   ],
   "source": [
    "# install packages\n",
    "%pip install -r requirements.txt"
   ]
  },
  {
   "cell_type": "code",
   "execution_count": 3,
   "metadata": {},
   "outputs": [
    {
     "name": "stdout",
     "output_type": "stream",
     "text": [
      "Note: you may need to restart the kernel to use updated packages.\n"
     ]
    }
   ],
   "source": [
    "# update packages\n",
    "%pip freeze > requirements.txt"
   ]
  },
  {
   "cell_type": "code",
   "execution_count": 4,
   "metadata": {},
   "outputs": [
    {
     "name": "stderr",
     "output_type": "stream",
     "text": [
      "/var/folders/v1/rpt43fxj323_cj0c2q98_b7r0000gn/T/ipykernel_31202/4076321326.py:5: DtypeWarning: Columns (690,691,692,703,706,708,709,710,711,712,713,714,715,716,717,718,719,720,721,1172,1174,1185,1214) have mixed types. Specify dtype option on import or set low_memory=False.\n",
      "  df = pd.read_csv('data.csv')\n"
     ]
    }
   ],
   "source": [
    "# import packages + load dataframe\n",
    "import pandas as pd\n",
    "\n",
    "# Load CSV file into DataFrame\n",
    "df = pd.read_csv('data.csv')\n"
   ]
  },
  {
   "cell_type": "markdown",
   "metadata": {},
   "source": [
    "# Data Exploration"
   ]
  },
  {
   "cell_type": "code",
   "execution_count": 5,
   "metadata": {},
   "outputs": [],
   "source": [
    "# analyze dataframe\n",
    "\n",
    "# print(list(df.columns))"
   ]
  },
  {
   "cell_type": "code",
   "execution_count": 6,
   "metadata": {},
   "outputs": [
    {
     "data": {
      "text/plain": [
       "'\\nfor col in df.columns:\\n    unique_values = df[col].dropna().unique()  # Drop NaNs if you don’t want them in the list\\n    unique_values_list = [float(val) if isinstance(val, (float, int)) else val for val in unique_values]\\n    print(f\"{col}: {unique_values_list}\")\\n'"
      ]
     },
     "execution_count": 6,
     "metadata": {},
     "output_type": "execute_result"
    }
   ],
   "source": [
    "# View ranges of data in each column\n",
    "\n",
    "\"\"\"\n",
    "for col in df.columns:\n",
    "    unique_values = df[col].dropna().unique()  # Drop NaNs if you don’t want them in the list\n",
    "    unique_values_list = [float(val) if isinstance(val, (float, int)) else val for val in unique_values]\n",
    "    print(f\"{col}: {unique_values_list}\")\n",
    "\"\"\"\n"
   ]
  },
  {
   "cell_type": "markdown",
   "metadata": {},
   "source": [
    "# Clean Dataframe"
   ]
  },
  {
   "cell_type": "code",
   "execution_count": 7,
   "metadata": {},
   "outputs": [],
   "source": [
    "# 1. Drop rows that aren't questions, or questions that have text values.\n",
    "columns_to_keep = [col for col in df.columns if ('Q' in col or 'QN' in col) and 'TEXT' not in col]\n",
    "columns_to_drop = [col for col in df.columns if col not in columns_to_keep]\n",
    "df = df[columns_to_keep]\n",
    "\n",
    "# Print dropped columns\n",
    "# print(\"Dropped columns:\", columns_to_drop)"
   ]
  },
  {
   "cell_type": "code",
   "execution_count": 8,
   "metadata": {},
   "outputs": [],
   "source": [
    "# 2. Drop all QN columns\n",
    "\n",
    "columns_to_drop = [col for col in df.columns if col.startswith(\"QN\")]\n",
    "columns_to_keep = [col for col in df.columns if col.startswith(\"Q\") and not col.startswith(\"QN\")]\n",
    "df_old = df[columns_to_drop]\n",
    "df = df[columns_to_keep]\n",
    "\n",
    "# print(\"Dropped columns:\", columns_to_drop)\n",
    "# print(\"\\n\")\n",
    "# print(\"Kept columns:\", columns_to_keep)\n"
   ]
  },
  {
   "cell_type": "code",
   "execution_count": 9,
   "metadata": {},
   "outputs": [],
   "source": [
    "# 3. Merge all multi-choice questions into one column."
   ]
  },
  {
   "cell_type": "code",
   "execution_count": 10,
   "metadata": {},
   "outputs": [
    {
     "name": "stdout",
     "output_type": "stream",
     "text": [
      "Initial value counts in Q4a:\n",
      "Q4a\n",
      "1      15287\n",
      "NaN     6266\n",
      "N        492\n",
      "Z         24\n",
      "Name: count, dtype: int64\n",
      "Initial value counts in Q4b:\n",
      "Q4b\n",
      "NaN    17689\n",
      "1       3864\n",
      "N        492\n",
      "Z         24\n",
      "Name: count, dtype: int64\n",
      "Updated value counts in Q4a:\n",
      "Q4a\n",
      "1    15287\n",
      "b     3864\n",
      "e     1863\n",
      "N      492\n",
      "c      418\n",
      "d      121\n",
      "Z       24\n",
      "Name: count, dtype: int64\n"
     ]
    }
   ],
   "source": [
    "# 3: Question 4a\n",
    "\n",
    "# Debug print to display the value counts of Q4a before transformations\n",
    "print(\"Initial value counts in Q4a:\")\n",
    "print(df['Q4a'].value_counts(dropna=False))\n",
    "print(\"Initial value counts in Q4b:\")\n",
    "print(df['Q4b'].value_counts(dropna=False))\n",
    "\n",
    "# Transformation code\n",
    "main_column = 'Q4a'\n",
    "additional_columns = ['Q4b', 'Q4c', 'Q4d', 'Q4e']\n",
    "\n",
    "for index, row in df.iterrows():\n",
    "    for col in additional_columns:\n",
    "        try:\n",
    "            if float(row[col]) == 1.0:\n",
    "                df.at[index, main_column] = col[-1]  # Use suffix (b, c, d, or e)\n",
    "                break\n",
    "        except (ValueError, TypeError):\n",
    "            continue\n",
    "\n",
    "df = df.drop(columns=additional_columns)\n",
    "\n",
    "# Display the updated value counts in Q4a after transformations\n",
    "print(\"Updated value counts in Q4a:\")\n",
    "print(df['Q4a'].value_counts(dropna=False))"
   ]
  },
  {
   "cell_type": "code",
   "execution_count": 11,
   "metadata": {},
   "outputs": [
    {
     "name": "stdout",
     "output_type": "stream",
     "text": [
      "Initial value counts in Q5a:\n",
      "Q5a\n",
      "NaN    17990\n",
      "1       2438\n",
      "N       1588\n",
      "Z         53\n",
      "Name: count, dtype: int64\n",
      "Updated value counts in Q5:\n",
      "Q5\n",
      "e    10949\n",
      "c     3854\n",
      "b     2750\n",
      "a     2438\n",
      "N     1588\n",
      "d      437\n",
      "Z       53\n",
      "Name: count, dtype: int64\n"
     ]
    }
   ],
   "source": [
    "# 3: Question 5\n",
    "\n",
    "# Debug print to display the value counts of QN5A before transformations\n",
    "print(\"Initial value counts in Q5a:\")\n",
    "print(df['Q5a'].value_counts(dropna=False))\n",
    "\n",
    "# Define the main column and additional columns to check for Q5\n",
    "main_column = 'Q5'\n",
    "additional_columns = ['Q5a', 'Q5b', 'Q5c', 'Q5d', 'Q5e']\n",
    "\n",
    "# Initialize Q5 column with values from Q5a where appropriate\n",
    "df[main_column] = df['Q5a']\n",
    "\n",
    "# Transformation logic for Q5\n",
    "for index, row in df.iterrows():\n",
    "    value_assigned = False\n",
    "    for col in additional_columns:\n",
    "        try:\n",
    "            # Check if the current column has a 1.0 value\n",
    "            if float(row[col]) == 1.0:\n",
    "                df.at[index, main_column] = col[-1]  # Set Q5 to the suffix (a, b, c, d, or e)\n",
    "                value_assigned = True\n",
    "                break\n",
    "        except (ValueError, TypeError):\n",
    "            continue\n",
    "\n",
    "    # If no 1.0 was found, retain 'Z' or 'N' based on values in Q5a to Q5e\n",
    "    if not value_assigned:\n",
    "        if any(row[col] == 'N' for col in additional_columns):\n",
    "            df.at[index, main_column] = 'N'\n",
    "        elif any(row[col] == 'Z' for col in additional_columns):\n",
    "            df.at[index, main_column] = 'Z'\n",
    "\n",
    "# Drop the additional columns\n",
    "df = df.drop(columns=additional_columns)\n",
    "\n",
    "# Display the updated value counts in Q5 after transformations\n",
    "print(\"Updated value counts in Q5:\")\n",
    "print(df['Q5'].value_counts(dropna=False))\n"
   ]
  },
  {
   "cell_type": "code",
   "execution_count": 12,
   "metadata": {},
   "outputs": [
    {
     "name": "stdout",
     "output_type": "stream",
     "text": [
      "Initial value counts in Q11a:\n",
      "Q11a\n",
      "S      18518\n",
      "1       1654\n",
      "NaN     1631\n",
      "Z        213\n",
      "N         42\n",
      "1.0       11\n",
      "Name: count, dtype: int64\n",
      "Updated value counts in Q11:\n",
      "Q11\n",
      "S    18518\n",
      "a     1665\n",
      "k      479\n",
      "b      416\n",
      "Z      213\n",
      "l      191\n",
      "n      141\n",
      "m       73\n",
      "j       73\n",
      "h       70\n",
      "N       42\n",
      "i       36\n",
      "c       34\n",
      "f       33\n",
      "g       33\n",
      "e       32\n",
      "d       20\n",
      "Name: count, dtype: int64\n"
     ]
    }
   ],
   "source": [
    "# 3: Question 11\n",
    "\n",
    "# Debug print to display the initial value counts in Q11a before transformation\n",
    "print(\"Initial value counts in Q11a:\")\n",
    "print(df['Q11a'].value_counts(dropna=False))\n",
    "\n",
    "# Define the main column and all Q11* columns to check for Q11\n",
    "main_column = 'Q11'\n",
    "additional_columns = ['Q11a', 'Q11b', 'Q11c', 'Q11d', 'Q11e', 'Q11f', 'Q11g', 'Q11h', 'Q11i', 'Q11j', 'Q11k', 'Q11l', 'Q11m', 'Q11n']\n",
    "\n",
    "# Initialize Q11 column with values from Q11a where appropriate\n",
    "df[main_column] = df['Q11a']\n",
    "\n",
    "# Transformation logic for Q11\n",
    "for index, row in df.iterrows():\n",
    "    value_assigned = False\n",
    "    for col in additional_columns:\n",
    "        try:\n",
    "            # Check if the current column has a 1.0 value\n",
    "            if float(row[col]) == 1.0:\n",
    "                df.at[index, main_column] = col[-1].lower()  # Set Q11 to the suffix in lowercase (a, b, c, etc.)\n",
    "                value_assigned = True\n",
    "                break\n",
    "        except (ValueError, TypeError):\n",
    "            continue\n",
    "\n",
    "    # If no 1.0 was found, retain 'Z' or 'N' based on values in Q11a to Q11n\n",
    "    if not value_assigned:\n",
    "        if any(row[col] == 'N' for col in additional_columns):\n",
    "            df.at[index, main_column] = 'N'\n",
    "        elif any(row[col] == 'Z' for col in additional_columns):\n",
    "            df.at[index, main_column] = 'Z'\n",
    "\n",
    "# Drop all Q11* columns, leaving only Q11\n",
    "df = df.drop(columns=additional_columns)\n",
    "\n",
    "# Display the updated value counts in Q11 after transformations\n",
    "print(\"Updated value counts in Q11:\")\n",
    "print(df['Q11'].value_counts(dropna=False))\n"
   ]
  },
  {
   "cell_type": "code",
   "execution_count": 13,
   "metadata": {},
   "outputs": [
    {
     "name": "stdout",
     "output_type": "stream",
     "text": [
      "Initial value counts in Q12a:\n",
      "Q12a\n",
      "S      20301\n",
      "NaN     1043\n",
      "1        430\n",
      "Z        219\n",
      "N         76\n",
      "Name: count, dtype: int64\n",
      "Updated value counts in Q12:\n",
      "Q12\n",
      "S    20301\n",
      "a      430\n",
      "l      291\n",
      "Z      219\n",
      "n      149\n",
      "m      129\n",
      "j       76\n",
      "N       76\n",
      "k       68\n",
      "h       67\n",
      "b       64\n",
      "g       47\n",
      "c       40\n",
      "i       39\n",
      "e       36\n",
      "d       28\n",
      "f        9\n",
      "Name: count, dtype: int64\n"
     ]
    }
   ],
   "source": [
    "# Question 12\n",
    "\n",
    "# Debug print to display the initial value counts in Q12a before transformation\n",
    "print(\"Initial value counts in Q12a:\")\n",
    "print(df['Q12a'].value_counts(dropna=False))\n",
    "\n",
    "# Define the main column and all Q12* columns to check for Q12\n",
    "main_column = 'Q12'\n",
    "additional_columns = ['Q12a', 'Q12b', 'Q12c', 'Q12d', 'Q12e', 'Q12f', 'Q12g', 'Q12h', 'Q12i', 'Q12j', 'Q12k', 'Q12l', 'Q12m', 'Q12n']\n",
    "\n",
    "# Initialize Q12 with values from Q12a where appropriate\n",
    "df[main_column] = df['Q12a']\n",
    "\n",
    "# Transformation logic for Q12\n",
    "for index, row in df.iterrows():\n",
    "    value_assigned = False\n",
    "    for col in additional_columns:\n",
    "        try:\n",
    "            # Check if the current column has a 1.0 value\n",
    "            if float(row[col]) == 1.0:\n",
    "                df.at[index, main_column] = col[-1].lower()  # Set Q12 to the suffix in lowercase (a, b, c, etc.)\n",
    "                value_assigned = True\n",
    "                break\n",
    "        except (ValueError, TypeError):\n",
    "            continue\n",
    "\n",
    "    # If no 1.0 was found, retain 'Z' or 'N' based on values in Q12a to Q12n\n",
    "    if not value_assigned:\n",
    "        if any(row[col] == 'N' for col in additional_columns):\n",
    "            df.at[index, main_column] = 'N'\n",
    "        elif any(row[col] == 'Z' for col in additional_columns):\n",
    "            df.at[index, main_column] = 'Z'\n",
    "\n",
    "# Drop all Q12* columns, leaving only Q12\n",
    "df = df.drop(columns=additional_columns)\n",
    "\n",
    "# Display the updated value counts in Q12 after transformations\n",
    "print(\"Updated value counts in Q12:\")\n",
    "print(df['Q12'].value_counts(dropna=False))"
   ]
  }
 ],
 "metadata": {
  "kernelspec": {
   "display_name": ".venv",
   "language": "python",
   "name": "python3"
  },
  "language_info": {
   "codemirror_mode": {
    "name": "ipython",
    "version": 3
   },
   "file_extension": ".py",
   "mimetype": "text/x-python",
   "name": "python",
   "nbconvert_exporter": "python",
   "pygments_lexer": "ipython3",
   "version": "3.13.0"
  }
 },
 "nbformat": 4,
 "nbformat_minor": 2
}
