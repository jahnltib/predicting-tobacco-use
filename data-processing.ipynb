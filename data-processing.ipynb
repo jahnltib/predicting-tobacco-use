{
 "cells": [
  {
   "cell_type": "markdown",
   "metadata": {},
   "source": [
    "# Environment Setup"
   ]
  },
  {
   "cell_type": "code",
   "execution_count": 48,
   "metadata": {},
   "outputs": [],
   "source": [
    "# Debugging: Use to toggle on/off print statements for debugging.\n",
    "# True: debug_messages will print \n",
    "# False: debug_messages will not print.\n",
    "DEBUG = False\n",
    "PACKAGES_INSTALLED = True # Set to True once packages are installed so they don't rerun.\n",
    "\n",
    "def debug_print(*args, **kwargs):\n",
    "# print(message)\n",
    "    if DEBUG:\n",
    "        print(*args, **kwargs)\n",
    "\n",
    "def debug_display(df, name=None):\n",
    "# display(df)\n",
    "    if DEBUG:\n",
    "        if name:\n",
    "            print(f\"Displaying DataFrame: {name}\")\n",
    "        display(df)\n",
    "\n",
    "# When working on a code cell use normal print() / display statements. After you confirm the code is correct, change to the debug versions."
   ]
  },
  {
   "cell_type": "code",
   "execution_count": 49,
   "metadata": {},
   "outputs": [],
   "source": [
    "# Install packages\n",
    "\n",
    "if not PACKAGES_INSTALLED:\n",
    "    # Install packages\n",
    "    %pip install -r requirements.txt\n",
    "    debug_print(\"Packages installed.\")\n",
    "    PACKAGES_INSTALLED = True\n",
    "else:\n",
    "    debug_print(\"Packages already installed. Skipping installation.\")\n"
   ]
  },
  {
   "cell_type": "code",
   "execution_count": 50,
   "metadata": {},
   "outputs": [],
   "source": [
    "# Update packages if needed\n",
    "# %pip freeze > requirements.txt"
   ]
  },
  {
   "cell_type": "code",
   "execution_count": 51,
   "metadata": {},
   "outputs": [
    {
     "name": "stderr",
     "output_type": "stream",
     "text": [
      "/var/folders/v1/rpt43fxj323_cj0c2q98_b7r0000gn/T/ipykernel_45312/701689009.py:6: DtypeWarning: Columns (690,691,692,703,706,708,709,710,711,712,713,714,715,716,717,718,719,720,721,1172,1174,1185,1214) have mixed types. Specify dtype option on import or set low_memory=False.\n",
      "  df = pd.read_csv('data.csv')\n"
     ]
    }
   ],
   "source": [
    "# Import packages + load dataframe\n",
    "import pandas as pd\n",
    "import numpy as np\n",
    "\n",
    "# Load CSV file into DataFrame\n",
    "df = pd.read_csv('data.csv')\n"
   ]
  },
  {
   "cell_type": "markdown",
   "metadata": {},
   "source": [
    "# Data Exploration"
   ]
  },
  {
   "cell_type": "code",
   "execution_count": 52,
   "metadata": {},
   "outputs": [],
   "source": [
    "# Analyze dataframe\n",
    "\n",
    "debug_print(list(df.columns))"
   ]
  },
  {
   "cell_type": "code",
   "execution_count": 53,
   "metadata": {},
   "outputs": [],
   "source": [
    "# View ranges of data in each column\n",
    "\n",
    "\n",
    "for col in df.columns:\n",
    "    unique_values = df[col].dropna().unique()  # Drop NaNs if you don’t want them in the list\n",
    "    unique_values_list = [float(val) if isinstance(val, (float, int)) else val for val in unique_values]\n",
    "    debug_print(f\"{col}: {unique_values_list}\")\n",
    "\n"
   ]
  },
  {
   "cell_type": "markdown",
   "metadata": {},
   "source": [
    "# Data Cleaning / Preprocessing"
   ]
  },
  {
   "cell_type": "markdown",
   "metadata": {},
   "source": [
    "### 1. Drop rows that aren't questions, or questions that have text values."
   ]
  },
  {
   "cell_type": "code",
   "execution_count": 54,
   "metadata": {},
   "outputs": [],
   "source": [
    "columns_to_keep = [col for col in df.columns if ('Q' in col or 'QN' in col) and 'TEXT' not in col]\n",
    "columns_to_drop = [col for col in df.columns if col not in columns_to_keep]\n",
    "df = df[columns_to_keep]\n",
    "\n",
    "# Print dropped columns\n",
    "debug_print(\"Dropped columns:\", columns_to_drop)"
   ]
  },
  {
   "cell_type": "markdown",
   "metadata": {},
   "source": [
    "### 2. Drop all QN columns"
   ]
  },
  {
   "cell_type": "code",
   "execution_count": 55,
   "metadata": {},
   "outputs": [],
   "source": [
    "columns_to_drop = [col for col in df.columns if col.startswith(\"QN\")]\n",
    "columns_to_keep = [col for col in df.columns if col.startswith(\"Q\") and not col.startswith(\"QN\")]\n",
    "df_old = df[columns_to_drop]\n",
    "df = df[columns_to_keep]\n",
    "\n",
    "debug_print(\"Dropped columns:\", columns_to_drop)\n",
    "debug_print(\"\\n\")\n",
    "debug_print(\"Kept columns:\", columns_to_keep)\n"
   ]
  },
  {
   "cell_type": "code",
   "execution_count": 56,
   "metadata": {},
   "outputs": [
    {
     "data": {
      "text/plain": [
       "(22069, 687)"
      ]
     },
     "execution_count": 56,
     "metadata": {},
     "output_type": "execute_result"
    }
   ],
   "source": [
    "df.shape"
   ]
  },
  {
   "cell_type": "markdown",
   "metadata": {},
   "source": [
    "### 3. Merge all multi-choice questions into one column."
   ]
  },
  {
   "cell_type": "code",
   "execution_count": 57,
   "metadata": {},
   "outputs": [
    {
     "name": "stderr",
     "output_type": "stream",
     "text": [
      "/var/folders/v1/rpt43fxj323_cj0c2q98_b7r0000gn/T/ipykernel_45312/1452305887.py:29: FutureWarning: Setting an item of incompatible dtype is deprecated and will raise an error in a future version of pandas. Value 'Q4a' has dtype incompatible with float64, please explicitly cast to a compatible dtype first.\n",
      "  df.at[index, new_column] = ','.join(selected_options)\n"
     ]
    }
   ],
   "source": [
    "# 3: Question 4\n",
    "# N -> Not Answered\n",
    "# Z -> Not Displayed\n",
    "# S -> Skipped\n",
    "new_column = 'Q4'\n",
    "columns_to_merge = ['Q4a', 'Q4b', 'Q4c', 'Q4d', 'Q4e']\n",
    "\n",
    "df[new_column] = np.nan\n",
    "\n",
    "original_column_values = pd.concat([df[col].value_counts(dropna=False).rename(col) for col in columns_to_merge], axis=1)\n",
    "original_column_values = original_column_values.reset_index().rename(columns={'index': 'Vals'})\n",
    "\n",
    "for index, row in df.iterrows():\n",
    "    selected_options = []\n",
    "    if any(row[col] == 'S' for col in columns_to_merge):\n",
    "        df.at[index, new_column] = 'S'\n",
    "    elif any(row[col] == 'N' for col in columns_to_merge):\n",
    "        df.at[index, new_column] = 'N'\n",
    "    elif any(row[col] == 'Z' for col in columns_to_merge):\n",
    "        df.at[index, new_column] = 'Z'\n",
    "    else:\n",
    "        for col in columns_to_merge:\n",
    "            try:\n",
    "                if float(row[col]) == 1.0:\n",
    "                    selected_options.append(col)\n",
    "            except (ValueError, TypeError):\n",
    "                continue\n",
    "        if selected_options:\n",
    "            df.at[index, new_column] = ','.join(selected_options)\n",
    "\n",
    "df = df.drop(columns=columns_to_merge)\n",
    "\n",
    "new_column_values = pd.DataFrame(df[new_column].value_counts(dropna=False)).reset_index()\n",
    "new_column_values.columns = ['Vals', f'{new_column}']\n",
    "\n",
    "debug_display(original_column_values)\n",
    "debug_display(new_column_values)"
   ]
  },
  {
   "cell_type": "code",
   "execution_count": 58,
   "metadata": {},
   "outputs": [
    {
     "name": "stderr",
     "output_type": "stream",
     "text": [
      "/var/folders/v1/rpt43fxj323_cj0c2q98_b7r0000gn/T/ipykernel_45312/3391771708.py:27: FutureWarning: Setting an item of incompatible dtype is deprecated and will raise an error in a future version of pandas. Value 'Q5c' has dtype incompatible with float64, please explicitly cast to a compatible dtype first.\n",
      "  df.at[index, new_column] = ','.join(selected_options)\n"
     ]
    }
   ],
   "source": [
    "# 3: Question 5\n",
    "\n",
    "new_column = 'Q5'\n",
    "columns_to_merge = ['Q5a', 'Q5b', 'Q5c', 'Q5d', 'Q5e']\n",
    "\n",
    "df[new_column] = np.nan\n",
    "\n",
    "original_column_values = pd.concat([df[col].value_counts(dropna=False).rename(col) for col in columns_to_merge], axis=1)\n",
    "original_column_values = original_column_values.reset_index().rename(columns={'index': 'Vals'})\n",
    "\n",
    "for index, row in df.iterrows():\n",
    "    selected_options = []\n",
    "    if any(row[col] == 'S' for col in columns_to_merge):\n",
    "        df.at[index, new_column] = 'S'\n",
    "    elif any(row[col] == 'N' for col in columns_to_merge):\n",
    "        df.at[index, new_column] = 'N'\n",
    "    elif any(row[col] == 'Z' for col in columns_to_merge):\n",
    "        df.at[index, new_column] = 'Z'\n",
    "    else:\n",
    "        for col in columns_to_merge:\n",
    "            try:\n",
    "                if float(row[col]) == 1.0:\n",
    "                    selected_options.append(col)\n",
    "            except (ValueError, TypeError):\n",
    "                continue\n",
    "        if selected_options:\n",
    "            df.at[index, new_column] = ','.join(selected_options)\n",
    "\n",
    "df = df.drop(columns=columns_to_merge)\n",
    "\n",
    "new_column_values = pd.DataFrame(df[new_column].value_counts(dropna=False)).reset_index()\n",
    "new_column_values.columns = ['Vals', f'{new_column}']\n",
    "\n",
    "debug_display(original_column_values)\n",
    "debug_display(new_column_values)"
   ]
  },
  {
   "cell_type": "code",
   "execution_count": 59,
   "metadata": {},
   "outputs": [
    {
     "name": "stderr",
     "output_type": "stream",
     "text": [
      "/var/folders/v1/rpt43fxj323_cj0c2q98_b7r0000gn/T/ipykernel_45312/2306741002.py:27: FutureWarning: Setting an item of incompatible dtype is deprecated and will raise an error in a future version of pandas. Value 'Q11a,Q11k,Q11l,Q11n' has dtype incompatible with float64, please explicitly cast to a compatible dtype first.\n",
      "  df.at[index, new_column] = ','.join(selected_options)\n"
     ]
    }
   ],
   "source": [
    "# 3: Question 11\n",
    "\n",
    "new_column = 'Q11'\n",
    "columns_to_merge = ['Q11a', 'Q11b', 'Q11c', 'Q11d', 'Q11e', 'Q11f', 'Q11g', 'Q11h', 'Q11i', 'Q11j', 'Q11k', 'Q11l', 'Q11m', 'Q11n']\n",
    "\n",
    "df[new_column] = np.nan\n",
    "\n",
    "original_column_values = pd.concat([df[col].value_counts(dropna=False).rename(col) for col in columns_to_merge], axis=1)\n",
    "original_column_values = original_column_values.reset_index().rename(columns={'index': 'Vals'})\n",
    "\n",
    "for index, row in df.iterrows():\n",
    "    selected_options = []\n",
    "    if any(row[col] == 'S' for col in columns_to_merge):\n",
    "        df.at[index, new_column] = 'S'\n",
    "    elif any(row[col] == 'N' for col in columns_to_merge):\n",
    "        df.at[index, new_column] = 'N'\n",
    "    elif any(row[col] == 'Z' for col in columns_to_merge):\n",
    "        df.at[index, new_column] = 'Z'\n",
    "    else:\n",
    "        for col in columns_to_merge:\n",
    "            try:\n",
    "                if float(row[col]) == 1.0:\n",
    "                    selected_options.append(col)\n",
    "            except (ValueError, TypeError):\n",
    "                continue\n",
    "        if selected_options:\n",
    "            df.at[index, new_column] = ','.join(selected_options)\n",
    "\n",
    "df = df.drop(columns=columns_to_merge)\n",
    "\n",
    "new_column_values = pd.DataFrame(df[new_column].value_counts(dropna=False)).reset_index()\n",
    "new_column_values.columns = ['Vals', f'{new_column}']\n",
    "\n",
    "debug_display(original_column_values)\n",
    "debug_display(new_column_values)\n"
   ]
  },
  {
   "cell_type": "code",
   "execution_count": 60,
   "metadata": {},
   "outputs": [
    {
     "name": "stderr",
     "output_type": "stream",
     "text": [
      "/var/folders/v1/rpt43fxj323_cj0c2q98_b7r0000gn/T/ipykernel_45312/3701780623.py:14: FutureWarning: Setting an item of incompatible dtype is deprecated and will raise an error in a future version of pandas. Value 'S' has dtype incompatible with float64, please explicitly cast to a compatible dtype first.\n",
      "  df.at[index, new_column] = 'S'\n"
     ]
    }
   ],
   "source": [
    "# 3: Question 12\n",
    "\n",
    "new_column = 'Q12'\n",
    "columns_to_merge = ['Q12a', 'Q12b', 'Q12c', 'Q12d', 'Q12e', 'Q12f', 'Q12g', 'Q12h', 'Q12i', 'Q12j', 'Q12k', 'Q12l', 'Q12m', 'Q12n']\n",
    "\n",
    "df[new_column] = np.nan\n",
    "\n",
    "original_column_values = pd.concat([df[col].value_counts(dropna=False).rename(col) for col in columns_to_merge], axis=1)\n",
    "original_column_values = original_column_values.reset_index().rename(columns={'index': 'Vals'})\n",
    "\n",
    "for index, row in df.iterrows():\n",
    "    selected_options = []\n",
    "    if any(row[col] == 'S' for col in columns_to_merge):\n",
    "        df.at[index, new_column] = 'S'\n",
    "    elif any(row[col] == 'N' for col in columns_to_merge):\n",
    "        df.at[index, new_column] = 'N'\n",
    "    elif any(row[col] == 'Z' for col in columns_to_merge):\n",
    "        df.at[index, new_column] = 'Z'\n",
    "    else:\n",
    "        for col in columns_to_merge:\n",
    "            try:\n",
    "                if float(row[col]) == 1.0:\n",
    "                    selected_options.append(col)\n",
    "            except (ValueError, TypeError):\n",
    "                continue\n",
    "        if selected_options:\n",
    "            df.at[index, new_column] = ','.join(selected_options)\n",
    "\n",
    "df = df.drop(columns=columns_to_merge)\n",
    "\n",
    "new_column_values = pd.DataFrame(df[new_column].value_counts(dropna=False)).reset_index()\n",
    "new_column_values.columns = ['Vals', f'{new_column}']\n",
    "\n",
    "debug_display(original_column_values)\n",
    "debug_display(new_column_values)"
   ]
  },
  {
   "cell_type": "code",
   "execution_count": 61,
   "metadata": {},
   "outputs": [],
   "source": [
    "debug_display(df['Q12'].head(10))"
   ]
  },
  {
   "cell_type": "code",
   "execution_count": 62,
   "metadata": {},
   "outputs": [
    {
     "name": "stderr",
     "output_type": "stream",
     "text": [
      "/var/folders/v1/rpt43fxj323_cj0c2q98_b7r0000gn/T/ipykernel_45312/3085339589.py:15: FutureWarning: Setting an item of incompatible dtype is deprecated and will raise an error in a future version of pandas. Value 'S' has dtype incompatible with float64, please explicitly cast to a compatible dtype first.\n",
      "  df.at[index, new_column] = 'S'\n"
     ]
    }
   ],
   "source": [
    "# 3: Question 14\n",
    "\n",
    "new_column = 'Q14'\n",
    "columns_to_merge = ['Q14a', 'Q14b', 'Q14c', 'Q14d', 'Q14e', 'Q14f', 'Q14g', 'Q14h',\n",
    "                    'Q14i', 'Q14j', 'Q14k', 'Q14l', 'Q14m', 'Q14n', 'Q14o', 'Q14p']\n",
    "\n",
    "df[new_column] = np.nan\n",
    "\n",
    "original_column_values = pd.concat([df[col].value_counts(dropna=False).rename(col) for col in columns_to_merge], axis=1)\n",
    "original_column_values = original_column_values.reset_index().rename(columns={'index': 'Vals'})\n",
    "\n",
    "for index, row in df.iterrows():\n",
    "    selected_options = []\n",
    "    if any(row[col] == 'S' for col in columns_to_merge):\n",
    "        df.at[index, new_column] = 'S'\n",
    "    elif any(row[col] == 'N' for col in columns_to_merge):\n",
    "        df.at[index, new_column] = 'N'\n",
    "    elif any(row[col] == 'Z' for col in columns_to_merge):\n",
    "        df.at[index, new_column] = 'Z'\n",
    "    else:\n",
    "        for col in columns_to_merge:\n",
    "            try:\n",
    "                if float(row[col]) == 1.0:\n",
    "                    selected_options.append(col)\n",
    "            except (ValueError, TypeError):\n",
    "                continue\n",
    "        if selected_options:\n",
    "            df.at[index, new_column] = ','.join(selected_options)\n",
    "\n",
    "df = df.drop(columns=columns_to_merge)\n",
    "\n",
    "new_column_values = pd.DataFrame(df[new_column].value_counts(dropna=False)).reset_index()\n",
    "new_column_values.columns = ['Vals', f'{new_column}']\n",
    "\n",
    "debug_display(original_column_values)\n",
    "debug_display(new_column_values)"
   ]
  },
  {
   "cell_type": "code",
   "execution_count": 63,
   "metadata": {},
   "outputs": [
    {
     "name": "stderr",
     "output_type": "stream",
     "text": [
      "/var/folders/v1/rpt43fxj323_cj0c2q98_b7r0000gn/T/ipykernel_45312/2132403913.py:16: FutureWarning: Setting an item of incompatible dtype is deprecated and will raise an error in a future version of pandas. Value 'S' has dtype incompatible with float64, please explicitly cast to a compatible dtype first.\n",
      "  df.at[index, new_column] = 'S'\n"
     ]
    }
   ],
   "source": [
    "# 3: Question 18a\n",
    "\n",
    "new_column = 'Q18a'\n",
    "columns_to_merge = [\n",
    "    'Q18a_a', 'Q18a_b', 'Q18a_c', 'Q18a_d', 'Q18a_e', 'Q18a_f', 'Q18a_g', 'Q18a_h', 'Q18a_i', 'Q18a_j', 'Q18a_k'\n",
    "]\n",
    "\n",
    "df[new_column] = np.nan\n",
    "\n",
    "original_column_values = pd.concat([df[col].value_counts(dropna=False).rename(col) for col in columns_to_merge], axis=1)\n",
    "original_column_values = original_column_values.reset_index().rename(columns={'index': 'Vals'})\n",
    "\n",
    "for index, row in df.iterrows():\n",
    "    selected_options = []\n",
    "    if any(row[col] == 'S' for col in columns_to_merge):\n",
    "        df.at[index, new_column] = 'S'\n",
    "    elif any(row[col] == 'N' for col in columns_to_merge):\n",
    "        df.at[index, new_column] = 'N'\n",
    "    elif any(row[col] == 'Z' for col in columns_to_merge):\n",
    "        df.at[index, new_column] = 'Z'\n",
    "    else:\n",
    "        for col in columns_to_merge:\n",
    "            try:\n",
    "                if float(row[col]) == 1.0:\n",
    "                    selected_options.append(col)\n",
    "            except (ValueError, TypeError):\n",
    "                continue\n",
    "        if selected_options:\n",
    "            df.at[index, new_column] = ','.join(selected_options)\n",
    "\n",
    "df = df.drop(columns=columns_to_merge)\n",
    "\n",
    "new_column_values = pd.DataFrame(df[new_column].value_counts(dropna=False)).reset_index()\n",
    "new_column_values.columns = ['Vals', f'{new_column}']\n",
    "\n",
    "debug_display(original_column_values)\n",
    "debug_display(new_column_values)"
   ]
  },
  {
   "cell_type": "code",
   "execution_count": 64,
   "metadata": {},
   "outputs": [
    {
     "name": "stderr",
     "output_type": "stream",
     "text": [
      "/var/folders/v1/rpt43fxj323_cj0c2q98_b7r0000gn/T/ipykernel_45312/724911826.py:16: FutureWarning: Setting an item of incompatible dtype is deprecated and will raise an error in a future version of pandas. Value 'S' has dtype incompatible with float64, please explicitly cast to a compatible dtype first.\n",
      "  df.at[index, new_column] = 'S'\n"
     ]
    }
   ],
   "source": [
    "# 3: Question 18b\n",
    "\n",
    "new_column = 'Q18b'\n",
    "columns_to_merge = [\n",
    "    'Q18b_a', 'Q18b_b', 'Q18b_c', 'Q18b_d', 'Q18b_e', 'Q18b_f', 'Q18b_g', 'Q18b_h', 'Q18b_i', 'Q18b_j',\n",
    "]\n",
    "\n",
    "df[new_column] = np.nan\n",
    "\n",
    "original_column_values = pd.concat([df[col].value_counts(dropna=False).rename(col) for col in columns_to_merge], axis=1)\n",
    "original_column_values = original_column_values.reset_index().rename(columns={'index': 'Vals'})\n",
    "\n",
    "for index, row in df.iterrows():\n",
    "    selected_options = []\n",
    "    if any(row[col] == 'S' for col in columns_to_merge):\n",
    "        df.at[index, new_column] = 'S'\n",
    "    elif any(row[col] == 'N' for col in columns_to_merge):\n",
    "        df.at[index, new_column] = 'N'\n",
    "    elif any(row[col] == 'Z' for col in columns_to_merge):\n",
    "        df.at[index, new_column] = 'Z'\n",
    "    else:\n",
    "        for col in columns_to_merge:\n",
    "            try:\n",
    "                if float(row[col]) == 1.0:\n",
    "                    selected_options.append(col)\n",
    "            except (ValueError, TypeError):\n",
    "                continue\n",
    "        if selected_options:\n",
    "            df.at[index, new_column] = ','.join(selected_options)\n",
    "\n",
    "df = df.drop(columns=columns_to_merge)\n",
    "\n",
    "new_column_values = pd.DataFrame(df[new_column].value_counts(dropna=False)).reset_index()\n",
    "new_column_values.columns = ['Vals', f'{new_column}']\n",
    "\n",
    "debug_display(original_column_values)\n",
    "debug_display(new_column_values)"
   ]
  },
  {
   "cell_type": "code",
   "execution_count": 65,
   "metadata": {},
   "outputs": [
    {
     "name": "stderr",
     "output_type": "stream",
     "text": [
      "/var/folders/v1/rpt43fxj323_cj0c2q98_b7r0000gn/T/ipykernel_45312/883490787.py:16: FutureWarning: Setting an item of incompatible dtype is deprecated and will raise an error in a future version of pandas. Value 'S' has dtype incompatible with float64, please explicitly cast to a compatible dtype first.\n",
      "  df.at[index, new_column] = 'S'\n"
     ]
    }
   ],
   "source": [
    "# 3: Question 18c\n",
    "\n",
    "new_column = 'Q18c'\n",
    "columns_to_merge = [\n",
    "    'Q18c_a', 'Q18c_b', 'Q18c_c', 'Q18c_d', 'Q18c_e', 'Q18c_f', 'Q18c_g', 'Q18c_h', 'Q18c_i', 'Q18c_j',\n",
    "]\n",
    "\n",
    "df[new_column] = np.nan\n",
    "\n",
    "original_column_values = pd.concat([df[col].value_counts(dropna=False).rename(col) for col in columns_to_merge], axis=1)\n",
    "original_column_values = original_column_values.reset_index().rename(columns={'index': 'Vals'})\n",
    "\n",
    "for index, row in df.iterrows():\n",
    "    selected_options = []\n",
    "    if any(row[col] == 'S' for col in columns_to_merge):\n",
    "        df.at[index, new_column] = 'S'\n",
    "    elif any(row[col] == 'N' for col in columns_to_merge):\n",
    "        df.at[index, new_column] = 'N'\n",
    "    elif any(row[col] == 'Z' for col in columns_to_merge):\n",
    "        df.at[index, new_column] = 'Z'\n",
    "    else:\n",
    "        for col in columns_to_merge:\n",
    "            try:\n",
    "                if float(row[col]) == 1.0:\n",
    "                    selected_options.append(col)\n",
    "            except (ValueError, TypeError):\n",
    "                continue\n",
    "        if selected_options:\n",
    "            df.at[index, new_column] = ','.join(selected_options)\n",
    "\n",
    "df = df.drop(columns=columns_to_merge)\n",
    "\n",
    "new_column_values = pd.DataFrame(df[new_column].value_counts(dropna=False)).reset_index()\n",
    "new_column_values.columns = ['Vals', f'{new_column}']\n",
    "\n",
    "debug_display(original_column_values)\n",
    "debug_display(new_column_values)"
   ]
  },
  {
   "cell_type": "code",
   "execution_count": 66,
   "metadata": {},
   "outputs": [
    {
     "name": "stderr",
     "output_type": "stream",
     "text": [
      "/var/folders/v1/rpt43fxj323_cj0c2q98_b7r0000gn/T/ipykernel_45312/1210841674.py:16: FutureWarning: Setting an item of incompatible dtype is deprecated and will raise an error in a future version of pandas. Value 'S' has dtype incompatible with float64, please explicitly cast to a compatible dtype first.\n",
      "  df.at[index, new_column] = 'S'\n"
     ]
    }
   ],
   "source": [
    "# 3: Question 18d\n",
    "\n",
    "new_column = 'Q18d'\n",
    "columns_to_merge = [\n",
    "    'Q18d_a', 'Q18d_b', 'Q18d_c', 'Q18d_d', 'Q18d_e', 'Q18d_f', 'Q18d_g', 'Q18d_h', 'Q18d_i', 'Q18d_j',\n",
    "]\n",
    "\n",
    "df[new_column] = np.nan\n",
    "\n",
    "original_column_values = pd.concat([df[col].value_counts(dropna=False).rename(col) for col in columns_to_merge], axis=1)\n",
    "original_column_values = original_column_values.reset_index().rename(columns={'index': 'Vals'})\n",
    "\n",
    "for index, row in df.iterrows():\n",
    "    selected_options = []\n",
    "    if any(row[col] == 'S' for col in columns_to_merge):\n",
    "        df.at[index, new_column] = 'S'\n",
    "    elif any(row[col] == 'N' for col in columns_to_merge):\n",
    "        df.at[index, new_column] = 'N'\n",
    "    elif any(row[col] == 'Z' for col in columns_to_merge):\n",
    "        df.at[index, new_column] = 'Z'\n",
    "    else:\n",
    "        for col in columns_to_merge:\n",
    "            try:\n",
    "                if float(row[col]) == 1.0:\n",
    "                    selected_options.append(col)\n",
    "            except (ValueError, TypeError):\n",
    "                continue\n",
    "        if selected_options:\n",
    "            df.at[index, new_column] = ','.join(selected_options)\n",
    "\n",
    "df = df.drop(columns=columns_to_merge)\n",
    "\n",
    "new_column_values = pd.DataFrame(df[new_column].value_counts(dropna=False)).reset_index()\n",
    "new_column_values.columns = ['Vals', f'{new_column}']\n",
    "\n",
    "debug_display(original_column_values)\n",
    "debug_display(new_column_values)"
   ]
  },
  {
   "cell_type": "code",
   "execution_count": 67,
   "metadata": {},
   "outputs": [
    {
     "name": "stderr",
     "output_type": "stream",
     "text": [
      "/var/folders/v1/rpt43fxj323_cj0c2q98_b7r0000gn/T/ipykernel_45312/2297832518.py:16: FutureWarning: Setting an item of incompatible dtype is deprecated and will raise an error in a future version of pandas. Value 'S' has dtype incompatible with float64, please explicitly cast to a compatible dtype first.\n",
      "  df.at[index, new_column] = 'S'\n"
     ]
    }
   ],
   "source": [
    "# 3: Question 18e\n",
    "\n",
    "new_column = 'Q18e'\n",
    "columns_to_merge = [\n",
    "    'Q18e_a', 'Q18e_b', 'Q18e_c', 'Q18e_d', 'Q18e_e', 'Q18e_f', 'Q18e_g', 'Q18e_h', 'Q18e_i', 'Q18e_j', 'Q18e_k',\n",
    "]\n",
    "\n",
    "df[new_column] = np.nan\n",
    "\n",
    "original_column_values = pd.concat([df[col].value_counts(dropna=False).rename(col) for col in columns_to_merge], axis=1)\n",
    "original_column_values = original_column_values.reset_index().rename(columns={'index': 'Vals'})\n",
    "\n",
    "for index, row in df.iterrows():\n",
    "    selected_options = []\n",
    "    if any(row[col] == 'S' for col in columns_to_merge):\n",
    "        df.at[index, new_column] = 'S'\n",
    "    elif any(row[col] == 'N' for col in columns_to_merge):\n",
    "        df.at[index, new_column] = 'N'\n",
    "    elif any(row[col] == 'Z' for col in columns_to_merge):\n",
    "        df.at[index, new_column] = 'Z'\n",
    "    else:\n",
    "        for col in columns_to_merge:\n",
    "            try:\n",
    "                if float(row[col]) == 1.0:\n",
    "                    selected_options.append(col)\n",
    "            except (ValueError, TypeError):\n",
    "                continue\n",
    "        if selected_options:\n",
    "            df.at[index, new_column] = ','.join(selected_options)\n",
    "\n",
    "df = df.drop(columns=columns_to_merge)\n",
    "\n",
    "new_column_values = pd.DataFrame(df[new_column].value_counts(dropna=False)).reset_index()\n",
    "new_column_values.columns = ['Vals', f'{new_column}']\n",
    "\n",
    "debug_display(original_column_values)\n",
    "debug_display(new_column_values)"
   ]
  },
  {
   "cell_type": "code",
   "execution_count": 68,
   "metadata": {},
   "outputs": [
    {
     "name": "stderr",
     "output_type": "stream",
     "text": [
      "/var/folders/v1/rpt43fxj323_cj0c2q98_b7r0000gn/T/ipykernel_45312/3346535276.py:16: FutureWarning: Setting an item of incompatible dtype is deprecated and will raise an error in a future version of pandas. Value 'S' has dtype incompatible with float64, please explicitly cast to a compatible dtype first.\n",
      "  df.at[index, new_column] = 'S'\n"
     ]
    }
   ],
   "source": [
    "# 3: Question 18f\n",
    "\n",
    "new_column = 'Q18f'\n",
    "columns_to_merge = [\n",
    "    'Q18f_a', 'Q18f_b', 'Q18f_c', 'Q18f_d', 'Q18f_e', 'Q18f_f', 'Q18f_g', 'Q18f_h', 'Q18f_i', 'Q18f_j', 'Q18f_k',\n",
    "]\n",
    "\n",
    "df[new_column] = np.nan\n",
    "\n",
    "original_column_values = pd.concat([df[col].value_counts(dropna=False).rename(col) for col in columns_to_merge], axis=1)\n",
    "original_column_values = original_column_values.reset_index().rename(columns={'index': 'Vals'})\n",
    "\n",
    "for index, row in df.iterrows():\n",
    "    selected_options = []\n",
    "    if any(row[col] == 'S' for col in columns_to_merge):\n",
    "        df.at[index, new_column] = 'S'\n",
    "    elif any(row[col] == 'N' for col in columns_to_merge):\n",
    "        df.at[index, new_column] = 'N'\n",
    "    elif any(row[col] == 'Z' for col in columns_to_merge):\n",
    "        df.at[index, new_column] = 'Z'\n",
    "    else:\n",
    "        for col in columns_to_merge:\n",
    "            try:\n",
    "                if float(row[col]) == 1.0:\n",
    "                    selected_options.append(col)\n",
    "            except (ValueError, TypeError):\n",
    "                continue\n",
    "        if selected_options:\n",
    "            df.at[index, new_column] = ','.join(selected_options)\n",
    "\n",
    "df = df.drop(columns=columns_to_merge)\n",
    "\n",
    "new_column_values = pd.DataFrame(df[new_column].value_counts(dropna=False)).reset_index()\n",
    "new_column_values.columns = ['Vals', f'{new_column}']\n",
    "\n",
    "debug_display(original_column_values)\n",
    "debug_display(new_column_values)"
   ]
  },
  {
   "cell_type": "code",
   "execution_count": 69,
   "metadata": {},
   "outputs": [
    {
     "name": "stderr",
     "output_type": "stream",
     "text": [
      "/var/folders/v1/rpt43fxj323_cj0c2q98_b7r0000gn/T/ipykernel_45312/2629775542.py:29: FutureWarning: Setting an item of incompatible dtype is deprecated and will raise an error in a future version of pandas. Value 'Q18g_c,Q18g_e,Q18g_f,Q18g_i' has dtype incompatible with float64, please explicitly cast to a compatible dtype first.\n",
      "  df.at[index, new_column] = ','.join(selected_options)\n"
     ]
    }
   ],
   "source": [
    "# 3: Question 18g\n",
    "\n",
    "new_column = 'Q18g'\n",
    "columns_to_merge = [\n",
    "    'Q18g_a', 'Q18g_b', 'Q18g_c', 'Q18g_d', 'Q18g_e', 'Q18g_f', 'Q18g_g', 'Q18g_h', 'Q18g_i', 'Q18g_j',\n",
    "]\n",
    "\n",
    "df[new_column] = np.nan\n",
    "\n",
    "original_column_values = pd.concat([df[col].value_counts(dropna=False).rename(col) for col in columns_to_merge], axis=1)\n",
    "original_column_values = original_column_values.reset_index().rename(columns={'index': 'Vals'})\n",
    "\n",
    "for index, row in df.iterrows():\n",
    "    selected_options = []\n",
    "    if any(row[col] == 'S' for col in columns_to_merge):\n",
    "        df.at[index, new_column] = 'S'\n",
    "    elif any(row[col] == 'N' for col in columns_to_merge):\n",
    "        df.at[index, new_column] = 'N'\n",
    "    elif any(row[col] == 'Z' for col in columns_to_merge):\n",
    "        df.at[index, new_column] = 'Z'\n",
    "    else:\n",
    "        for col in columns_to_merge:\n",
    "            try:\n",
    "                if float(row[col]) == 1.0:\n",
    "                    selected_options.append(col)\n",
    "            except (ValueError, TypeError):\n",
    "                continue\n",
    "        if selected_options:\n",
    "            df.at[index, new_column] = ','.join(selected_options)\n",
    "\n",
    "df = df.drop(columns=columns_to_merge)\n",
    "\n",
    "new_column_values = pd.DataFrame(df[new_column].value_counts(dropna=False)).reset_index()\n",
    "new_column_values.columns = ['Vals', f'{new_column}']\n",
    "\n",
    "debug_display(original_column_values)\n",
    "debug_display(new_column_values)"
   ]
  },
  {
   "cell_type": "code",
   "execution_count": 70,
   "metadata": {},
   "outputs": [
    {
     "name": "stderr",
     "output_type": "stream",
     "text": [
      "/var/folders/v1/rpt43fxj323_cj0c2q98_b7r0000gn/T/ipykernel_45312/2413890376.py:16: FutureWarning: Setting an item of incompatible dtype is deprecated and will raise an error in a future version of pandas. Value 'S' has dtype incompatible with float64, please explicitly cast to a compatible dtype first.\n",
      "  df.at[index, new_column] = 'S'\n"
     ]
    }
   ],
   "source": [
    "# 3: Question 18h\n",
    "\n",
    "new_column = 'Q18h'\n",
    "columns_to_merge = [\n",
    "    'Q18h_a', 'Q18h_b', 'Q18h_c', 'Q18h_d', 'Q18h_e', 'Q18h_f', 'Q18h_g', 'Q18h_h', 'Q18h_i', 'Q18h_j', 'Q18h_k',\n",
    "]\n",
    "\n",
    "df[new_column] = np.nan\n",
    "\n",
    "original_column_values = pd.concat([df[col].value_counts(dropna=False).rename(col) for col in columns_to_merge], axis=1)\n",
    "original_column_values = original_column_values.reset_index().rename(columns={'index': 'Vals'})\n",
    "\n",
    "for index, row in df.iterrows():\n",
    "    selected_options = []\n",
    "    if any(row[col] == 'S' for col in columns_to_merge):\n",
    "        df.at[index, new_column] = 'S'\n",
    "    elif any(row[col] == 'N' for col in columns_to_merge):\n",
    "        df.at[index, new_column] = 'N'\n",
    "    elif any(row[col] == 'Z' for col in columns_to_merge):\n",
    "        df.at[index, new_column] = 'Z'\n",
    "    else:\n",
    "        for col in columns_to_merge:\n",
    "            try:\n",
    "                if float(row[col]) == 1.0:\n",
    "                    selected_options.append(col)\n",
    "            except (ValueError, TypeError):\n",
    "                continue\n",
    "        if selected_options:\n",
    "            df.at[index, new_column] = ','.join(selected_options)\n",
    "\n",
    "df = df.drop(columns=columns_to_merge)\n",
    "\n",
    "new_column_values = pd.DataFrame(df[new_column].value_counts(dropna=False)).reset_index()\n",
    "new_column_values.columns = ['Vals', f'{new_column}']\n",
    "\n",
    "debug_display(original_column_values)\n",
    "debug_display(new_column_values)"
   ]
  },
  {
   "cell_type": "code",
   "execution_count": 71,
   "metadata": {},
   "outputs": [
    {
     "name": "stderr",
     "output_type": "stream",
     "text": [
      "/var/folders/v1/rpt43fxj323_cj0c2q98_b7r0000gn/T/ipykernel_45312/3583629431.py:16: FutureWarning: Setting an item of incompatible dtype is deprecated and will raise an error in a future version of pandas. Value 'S' has dtype incompatible with float64, please explicitly cast to a compatible dtype first.\n",
      "  df.at[index, new_column] = 'S'\n"
     ]
    }
   ],
   "source": [
    "# 3: Question 18i\n",
    "\n",
    "new_column = 'Q18i'\n",
    "columns_to_merge = [\n",
    "    'Q18i_a', 'Q18i_b', 'Q18i_c', 'Q18i_d', 'Q18i_e', 'Q18i_f', 'Q18i_g', 'Q18i_h', 'Q18i_i', 'Q18i_j',\n",
    "]\n",
    "\n",
    "df[new_column] = np.nan\n",
    "\n",
    "original_column_values = pd.concat([df[col].value_counts(dropna=False).rename(col) for col in columns_to_merge], axis=1)\n",
    "original_column_values = original_column_values.reset_index().rename(columns={'index': 'Vals'})\n",
    "\n",
    "for index, row in df.iterrows():\n",
    "    selected_options = []\n",
    "    if any(row[col] == 'S' for col in columns_to_merge):\n",
    "        df.at[index, new_column] = 'S'\n",
    "    elif any(row[col] == 'N' for col in columns_to_merge):\n",
    "        df.at[index, new_column] = 'N'\n",
    "    elif any(row[col] == 'Z' for col in columns_to_merge):\n",
    "        df.at[index, new_column] = 'Z'\n",
    "    else:\n",
    "        for col in columns_to_merge:\n",
    "            try:\n",
    "                if float(row[col]) == 1.0:\n",
    "                    selected_options.append(col)\n",
    "            except (ValueError, TypeError):\n",
    "                continue\n",
    "        if selected_options:\n",
    "            df.at[index, new_column] = ','.join(selected_options)\n",
    "\n",
    "df = df.drop(columns=columns_to_merge)\n",
    "\n",
    "new_column_values = pd.DataFrame(df[new_column].value_counts(dropna=False)).reset_index()\n",
    "new_column_values.columns = ['Vals', f'{new_column}']\n",
    "\n",
    "debug_display(original_column_values)\n",
    "debug_display(new_column_values)"
   ]
  },
  {
   "cell_type": "code",
   "execution_count": 72,
   "metadata": {},
   "outputs": [
    {
     "name": "stderr",
     "output_type": "stream",
     "text": [
      "/var/folders/v1/rpt43fxj323_cj0c2q98_b7r0000gn/T/ipykernel_45312/3698953251.py:29: FutureWarning: Setting an item of incompatible dtype is deprecated and will raise an error in a future version of pandas. Value 'Q18j_c,Q18j_f' has dtype incompatible with float64, please explicitly cast to a compatible dtype first.\n",
      "  df.at[index, new_column] = ','.join(selected_options)\n"
     ]
    }
   ],
   "source": [
    "# 3: Question 18j\n",
    "\n",
    "new_column = 'Q18j'\n",
    "columns_to_merge = [\n",
    "    'Q18j_a', 'Q18j_b', 'Q18j_c', 'Q18j_d', 'Q18j_e', 'Q18j_f', 'Q18j_g', 'Q18j_h', 'Q18j_i', 'Q18j_j',\n",
    "]\n",
    "\n",
    "df[new_column] = np.nan\n",
    "\n",
    "original_column_values = pd.concat([df[col].value_counts(dropna=False).rename(col) for col in columns_to_merge], axis=1)\n",
    "original_column_values = original_column_values.reset_index().rename(columns={'index': 'Vals'})\n",
    "\n",
    "for index, row in df.iterrows():\n",
    "    selected_options = []\n",
    "    if any(row[col] == 'S' for col in columns_to_merge):\n",
    "        df.at[index, new_column] = 'S'\n",
    "    elif any(row[col] == 'N' for col in columns_to_merge):\n",
    "        df.at[index, new_column] = 'N'\n",
    "    elif any(row[col] == 'Z' for col in columns_to_merge):\n",
    "        df.at[index, new_column] = 'Z'\n",
    "    else:\n",
    "        for col in columns_to_merge:\n",
    "            try:\n",
    "                if float(row[col]) == 1.0:\n",
    "                    selected_options.append(col)\n",
    "            except (ValueError, TypeError):\n",
    "                continue\n",
    "        if selected_options:\n",
    "            df.at[index, new_column] = ','.join(selected_options)\n",
    "\n",
    "df = df.drop(columns=columns_to_merge)\n",
    "\n",
    "new_column_values = pd.DataFrame(df[new_column].value_counts(dropna=False)).reset_index()\n",
    "new_column_values.columns = ['Vals', f'{new_column}']\n",
    "\n",
    "debug_display(original_column_values)\n",
    "debug_display(new_column_values)"
   ]
  },
  {
   "cell_type": "code",
   "execution_count": 73,
   "metadata": {},
   "outputs": [
    {
     "name": "stderr",
     "output_type": "stream",
     "text": [
      "/var/folders/v1/rpt43fxj323_cj0c2q98_b7r0000gn/T/ipykernel_45312/1303384623.py:31: FutureWarning: Setting an item of incompatible dtype is deprecated and will raise an error in a future version of pandas. Value 'S' has dtype incompatible with float64, please explicitly cast to a compatible dtype first.\n",
      "  df.at[index, new_column] = 'S'\n",
      "/var/folders/v1/rpt43fxj323_cj0c2q98_b7r0000gn/T/ipykernel_45312/1303384623.py:31: FutureWarning: Setting an item of incompatible dtype is deprecated and will raise an error in a future version of pandas. Value 'S' has dtype incompatible with float64, please explicitly cast to a compatible dtype first.\n",
      "  df.at[index, new_column] = 'S'\n",
      "/var/folders/v1/rpt43fxj323_cj0c2q98_b7r0000gn/T/ipykernel_45312/1303384623.py:31: FutureWarning: Setting an item of incompatible dtype is deprecated and will raise an error in a future version of pandas. Value 'S' has dtype incompatible with float64, please explicitly cast to a compatible dtype first.\n",
      "  df.at[index, new_column] = 'S'\n",
      "/var/folders/v1/rpt43fxj323_cj0c2q98_b7r0000gn/T/ipykernel_45312/1303384623.py:31: FutureWarning: Setting an item of incompatible dtype is deprecated and will raise an error in a future version of pandas. Value 'S' has dtype incompatible with float64, please explicitly cast to a compatible dtype first.\n",
      "  df.at[index, new_column] = 'S'\n",
      "/var/folders/v1/rpt43fxj323_cj0c2q98_b7r0000gn/T/ipykernel_45312/1303384623.py:31: FutureWarning: Setting an item of incompatible dtype is deprecated and will raise an error in a future version of pandas. Value 'S' has dtype incompatible with float64, please explicitly cast to a compatible dtype first.\n",
      "  df.at[index, new_column] = 'S'\n",
      "/var/folders/v1/rpt43fxj323_cj0c2q98_b7r0000gn/T/ipykernel_45312/1303384623.py:31: FutureWarning: Setting an item of incompatible dtype is deprecated and will raise an error in a future version of pandas. Value 'S' has dtype incompatible with float64, please explicitly cast to a compatible dtype first.\n",
      "  df.at[index, new_column] = 'S'\n",
      "/var/folders/v1/rpt43fxj323_cj0c2q98_b7r0000gn/T/ipykernel_45312/1303384623.py:31: FutureWarning: Setting an item of incompatible dtype is deprecated and will raise an error in a future version of pandas. Value 'S' has dtype incompatible with float64, please explicitly cast to a compatible dtype first.\n",
      "  df.at[index, new_column] = 'S'\n",
      "/var/folders/v1/rpt43fxj323_cj0c2q98_b7r0000gn/T/ipykernel_45312/1303384623.py:44: FutureWarning: Setting an item of incompatible dtype is deprecated and will raise an error in a future version of pandas. Value 'Q21h_d' has dtype incompatible with float64, please explicitly cast to a compatible dtype first.\n",
      "  df.at[index, new_column] = ','.join(selected_options)\n",
      "/var/folders/v1/rpt43fxj323_cj0c2q98_b7r0000gn/T/ipykernel_45312/1303384623.py:31: FutureWarning: Setting an item of incompatible dtype is deprecated and will raise an error in a future version of pandas. Value 'S' has dtype incompatible with float64, please explicitly cast to a compatible dtype first.\n",
      "  df.at[index, new_column] = 'S'\n",
      "/var/folders/v1/rpt43fxj323_cj0c2q98_b7r0000gn/T/ipykernel_45312/1303384623.py:31: FutureWarning: Setting an item of incompatible dtype is deprecated and will raise an error in a future version of pandas. Value 'S' has dtype incompatible with float64, please explicitly cast to a compatible dtype first.\n",
      "  df.at[index, new_column] = 'S'\n",
      "/var/folders/v1/rpt43fxj323_cj0c2q98_b7r0000gn/T/ipykernel_45312/1303384623.py:44: FutureWarning: Setting an item of incompatible dtype is deprecated and will raise an error in a future version of pandas. Value 'Q21k_d,Q21k_e' has dtype incompatible with float64, please explicitly cast to a compatible dtype first.\n",
      "  df.at[index, new_column] = ','.join(selected_options)\n",
      "/var/folders/v1/rpt43fxj323_cj0c2q98_b7r0000gn/T/ipykernel_45312/1303384623.py:31: FutureWarning: Setting an item of incompatible dtype is deprecated and will raise an error in a future version of pandas. Value 'S' has dtype incompatible with float64, please explicitly cast to a compatible dtype first.\n",
      "  df.at[index, new_column] = 'S'\n"
     ]
    }
   ],
   "source": [
    "# 3: Question 21a-21l (combined for convenience)\n",
    "\n",
    "new_columns = ['Q21a', 'Q21b', 'Q21c', 'Q21d', 'Q21e', 'Q21f', 'Q21g', 'Q21h', 'Q21i', 'Q21j', 'Q21k', 'Q21l']\n",
    "columns_to_merge = [\n",
    "    ['Q21a_a', 'Q21a_b', 'Q21a_c', 'Q21a_d', 'Q21a_e', 'Q21a_f', 'Q21a_g', 'Q21a_h'],\n",
    "    ['Q21b_a', 'Q21b_b', 'Q21b_c', 'Q21b_d', 'Q21b_e', 'Q21b_f', 'Q21b_g', 'Q21b_h'],\n",
    "    ['Q21c_a', 'Q21c_b', 'Q21c_c', 'Q21c_d', 'Q21c_e', 'Q21c_f', 'Q21c_g', 'Q21c_h'],\n",
    "    ['Q21d_a', 'Q21d_b', 'Q21d_c', 'Q21d_d', 'Q21d_e', 'Q21d_f', 'Q21d_g', 'Q21d_h'],\n",
    "    ['Q21e_a', 'Q21e_b', 'Q21e_c', 'Q21e_d', 'Q21e_e', 'Q21e_f', 'Q21e_g', 'Q21e_h'],\n",
    "    ['Q21f_a', 'Q21f_b', 'Q21f_c', 'Q21f_d', 'Q21f_e', 'Q21f_f', 'Q21f_g', 'Q21f_h'],\n",
    "    ['Q21g_a', 'Q21g_b', 'Q21g_c', 'Q21g_d', 'Q21g_e', 'Q21g_f', 'Q21g_g', 'Q21g_h'],\n",
    "    ['Q21h_a', 'Q21h_b', 'Q21h_c', 'Q21h_d', 'Q21h_e', 'Q21h_f', 'Q21h_g', 'Q21h_h'],\n",
    "    ['Q21i_a', 'Q21i_b', 'Q21i_c', 'Q21i_d', 'Q21i_e', 'Q21i_f', 'Q21i_g', 'Q21i_h'],\n",
    "    ['Q21j_a', 'Q21j_b', 'Q21j_c', 'Q21j_d', 'Q21j_e', 'Q21j_f', 'Q21j_g', 'Q21j_h'],\n",
    "    ['Q21k_a', 'Q21k_b', 'Q21k_c', 'Q21k_d', 'Q21k_e', 'Q21k_f', 'Q21k_g', 'Q21k_h'],\n",
    "    ['Q21l_a', 'Q21l_b', 'Q21l_c', 'Q21l_d', 'Q21l_e', 'Q21l_f', 'Q21l_g', 'Q21l_h']\n",
    "]\n",
    "\n",
    "for new_column, merge_columns in zip(new_columns, columns_to_merge):\n",
    "    df[new_column] = np.nan\n",
    "\n",
    "    # Flatten value counts for individual columns in the current group\n",
    "    original_column_values = pd.concat(\n",
    "        [df[col].value_counts(dropna=False).rename(f\"{col}\") for col in merge_columns],\n",
    "        axis=1\n",
    "    ).reset_index().rename(columns={'index': 'Vals'})\n",
    "\n",
    "    for index, row in df.iterrows():\n",
    "        selected_options = []\n",
    "        if any(row[col] == 'S' for col in merge_columns):\n",
    "            df.at[index, new_column] = 'S'\n",
    "        elif any(row[col] == 'N' for col in merge_columns):\n",
    "            df.at[index, new_column] = 'N'\n",
    "        elif any(row[col] == 'Z' for col in merge_columns):\n",
    "            df.at[index, new_column] = 'Z'\n",
    "        else:\n",
    "            for col in merge_columns:\n",
    "                try:\n",
    "                    if float(row[col]) == 1.0:\n",
    "                        selected_options.append(col)\n",
    "                except (ValueError, TypeError):\n",
    "                    continue\n",
    "            if selected_options:\n",
    "                df.at[index, new_column] = ','.join(selected_options)\n",
    "\n",
    "    df = df.drop(columns=merge_columns)\n",
    "\n",
    "    new_column_values = pd.DataFrame(df[new_column].value_counts(dropna=False)).reset_index()\n",
    "    new_column_values.columns = ['Vals', f'{new_column}']\n",
    "\n",
    "    debug_display(original_column_values)\n",
    "    debug_display(new_column_values)\n"
   ]
  },
  {
   "cell_type": "code",
   "execution_count": 74,
   "metadata": {},
   "outputs": [
    {
     "name": "stderr",
     "output_type": "stream",
     "text": [
      "/var/folders/v1/rpt43fxj323_cj0c2q98_b7r0000gn/T/ipykernel_45312/854255516.py:31: FutureWarning: Setting an item of incompatible dtype is deprecated and will raise an error in a future version of pandas. Value 'S' has dtype incompatible with float64, please explicitly cast to a compatible dtype first.\n",
      "  df.at[index, new_column] = 'S'\n",
      "/var/folders/v1/rpt43fxj323_cj0c2q98_b7r0000gn/T/ipykernel_45312/854255516.py:31: FutureWarning: Setting an item of incompatible dtype is deprecated and will raise an error in a future version of pandas. Value 'S' has dtype incompatible with float64, please explicitly cast to a compatible dtype first.\n",
      "  df.at[index, new_column] = 'S'\n",
      "/var/folders/v1/rpt43fxj323_cj0c2q98_b7r0000gn/T/ipykernel_45312/854255516.py:31: FutureWarning: Setting an item of incompatible dtype is deprecated and will raise an error in a future version of pandas. Value 'S' has dtype incompatible with float64, please explicitly cast to a compatible dtype first.\n",
      "  df.at[index, new_column] = 'S'\n",
      "/var/folders/v1/rpt43fxj323_cj0c2q98_b7r0000gn/T/ipykernel_45312/854255516.py:31: FutureWarning: Setting an item of incompatible dtype is deprecated and will raise an error in a future version of pandas. Value 'S' has dtype incompatible with float64, please explicitly cast to a compatible dtype first.\n",
      "  df.at[index, new_column] = 'S'\n",
      "/var/folders/v1/rpt43fxj323_cj0c2q98_b7r0000gn/T/ipykernel_45312/854255516.py:31: FutureWarning: Setting an item of incompatible dtype is deprecated and will raise an error in a future version of pandas. Value 'S' has dtype incompatible with float64, please explicitly cast to a compatible dtype first.\n",
      "  df.at[index, new_column] = 'S'\n",
      "/var/folders/v1/rpt43fxj323_cj0c2q98_b7r0000gn/T/ipykernel_45312/854255516.py:31: FutureWarning: Setting an item of incompatible dtype is deprecated and will raise an error in a future version of pandas. Value 'S' has dtype incompatible with float64, please explicitly cast to a compatible dtype first.\n",
      "  df.at[index, new_column] = 'S'\n",
      "/var/folders/v1/rpt43fxj323_cj0c2q98_b7r0000gn/T/ipykernel_45312/854255516.py:31: FutureWarning: Setting an item of incompatible dtype is deprecated and will raise an error in a future version of pandas. Value 'S' has dtype incompatible with float64, please explicitly cast to a compatible dtype first.\n",
      "  df.at[index, new_column] = 'S'\n",
      "/var/folders/v1/rpt43fxj323_cj0c2q98_b7r0000gn/T/ipykernel_45312/854255516.py:44: FutureWarning: Setting an item of incompatible dtype is deprecated and will raise an error in a future version of pandas. Value 'Q22h_a' has dtype incompatible with float64, please explicitly cast to a compatible dtype first.\n",
      "  df.at[index, new_column] = ','.join(selected_options)\n",
      "/var/folders/v1/rpt43fxj323_cj0c2q98_b7r0000gn/T/ipykernel_45312/854255516.py:31: FutureWarning: Setting an item of incompatible dtype is deprecated and will raise an error in a future version of pandas. Value 'S' has dtype incompatible with float64, please explicitly cast to a compatible dtype first.\n",
      "  df.at[index, new_column] = 'S'\n",
      "/var/folders/v1/rpt43fxj323_cj0c2q98_b7r0000gn/T/ipykernel_45312/854255516.py:31: FutureWarning: Setting an item of incompatible dtype is deprecated and will raise an error in a future version of pandas. Value 'S' has dtype incompatible with float64, please explicitly cast to a compatible dtype first.\n",
      "  df.at[index, new_column] = 'S'\n",
      "/var/folders/v1/rpt43fxj323_cj0c2q98_b7r0000gn/T/ipykernel_45312/854255516.py:44: FutureWarning: Setting an item of incompatible dtype is deprecated and will raise an error in a future version of pandas. Value 'Q22k_a' has dtype incompatible with float64, please explicitly cast to a compatible dtype first.\n",
      "  df.at[index, new_column] = ','.join(selected_options)\n",
      "/var/folders/v1/rpt43fxj323_cj0c2q98_b7r0000gn/T/ipykernel_45312/854255516.py:31: FutureWarning: Setting an item of incompatible dtype is deprecated and will raise an error in a future version of pandas. Value 'S' has dtype incompatible with float64, please explicitly cast to a compatible dtype first.\n",
      "  df.at[index, new_column] = 'S'\n"
     ]
    }
   ],
   "source": [
    "# 3: Question 22a-22l (combined for convenience)\n",
    "\n",
    "new_columns = ['Q22a', 'Q22b', 'Q22c', 'Q22d', 'Q22e', 'Q22f', 'Q22g', 'Q22h', 'Q22i', 'Q22j', 'Q22k', 'Q22l']\n",
    "columns_to_merge = [\n",
    "    ['Q22a_a', 'Q22a_b', 'Q22a_c', 'Q22a_d', 'Q22a_e', 'Q22a_f', 'Q22a_g', 'Q22a_h', 'Q22a_i', 'Q22a_j', 'Q22a_k', 'Q22a_l'],\n",
    "    ['Q22b_a', 'Q22b_b', 'Q22b_c', 'Q22b_d', 'Q22b_e', 'Q22b_f', 'Q22b_g', 'Q22b_h', 'Q22b_i', 'Q22b_j', 'Q22b_k', 'Q22b_l'],\n",
    "    ['Q22c_a', 'Q22c_b', 'Q22c_c', 'Q22c_d', 'Q22c_e', 'Q22c_f', 'Q22c_g', 'Q22c_h', 'Q22c_i', 'Q22c_j', 'Q22c_k', 'Q22c_l'],\n",
    "    ['Q22d_a', 'Q22d_b', 'Q22d_c', 'Q22d_d', 'Q22d_e', 'Q22d_f', 'Q22d_g', 'Q22d_h', 'Q22d_i', 'Q22d_j', 'Q22d_k', 'Q22d_l'],\n",
    "    ['Q22e_a', 'Q22e_b', 'Q22e_c', 'Q22e_d', 'Q22e_e', 'Q22e_f', 'Q22e_g', 'Q22e_h', 'Q22e_i', 'Q22e_j', 'Q22e_k', 'Q22e_l'],\n",
    "    ['Q22f_a', 'Q22f_b', 'Q22f_c', 'Q22f_d', 'Q22f_e', 'Q22f_f', 'Q22f_g', 'Q22f_h', 'Q22f_i', 'Q22f_j', 'Q22f_k', 'Q22f_l'],\n",
    "    ['Q22g_a', 'Q22g_b', 'Q22g_c', 'Q22g_d', 'Q22g_e', 'Q22g_f', 'Q22g_g', 'Q22g_h', 'Q22g_i', 'Q22g_j', 'Q22g_k', 'Q22g_l'],\n",
    "    ['Q22h_a', 'Q22h_b', 'Q22h_c', 'Q22h_d', 'Q22h_e', 'Q22h_f', 'Q22h_g', 'Q22h_h', 'Q22h_i', 'Q22h_j', 'Q22h_k', 'Q22h_l'],\n",
    "    ['Q22i_a', 'Q22i_b', 'Q22i_c', 'Q22i_d', 'Q22i_e', 'Q22i_f', 'Q22i_g', 'Q22i_h', 'Q22i_i', 'Q22i_j', 'Q22i_k', 'Q22i_l'],\n",
    "    ['Q22j_a', 'Q22j_b', 'Q22j_c', 'Q22j_d', 'Q22j_e', 'Q22j_f', 'Q22j_g', 'Q22j_h', 'Q22j_i', 'Q22j_j', 'Q22j_k', 'Q22j_l'],\n",
    "    ['Q22k_a', 'Q22k_b', 'Q22k_c', 'Q22k_d', 'Q22k_e', 'Q22k_f', 'Q22k_g', 'Q22k_h', 'Q22k_i', 'Q22k_j', 'Q22k_k', 'Q22k_l'],\n",
    "    ['Q22l_a', 'Q22l_b', 'Q22l_c', 'Q22l_d', 'Q22l_e', 'Q22l_f', 'Q22l_g', 'Q22l_h', 'Q22l_i', 'Q22l_j', 'Q22l_k', 'Q22l_l']\n",
    "]\n",
    "\n",
    "for new_column, merge_columns in zip(new_columns, columns_to_merge):\n",
    "    df[new_column] = np.nan\n",
    "\n",
    "    # Flatten value counts for individual columns in the current group\n",
    "    original_column_values = pd.concat(\n",
    "        [df[col].value_counts(dropna=False).rename(f\"{col}\") for col in merge_columns],\n",
    "        axis=1\n",
    "    ).reset_index().rename(columns={'index': 'Vals'})\n",
    "\n",
    "    for index, row in df.iterrows():\n",
    "        selected_options = []\n",
    "        if any(row[col] == 'S' for col in merge_columns):\n",
    "            df.at[index, new_column] = 'S'\n",
    "        elif any(row[col] == 'N' for col in merge_columns):\n",
    "            df.at[index, new_column] = 'N'\n",
    "        elif any(row[col] == 'Z' for col in merge_columns):\n",
    "            df.at[index, new_column] = 'Z'\n",
    "        else:\n",
    "            for col in merge_columns:\n",
    "                try:\n",
    "                    if float(row[col]) == 1.0:\n",
    "                        selected_options.append(col)\n",
    "                except (ValueError, TypeError):\n",
    "                    continue\n",
    "            if selected_options:\n",
    "                df.at[index, new_column] = ','.join(selected_options)\n",
    "\n",
    "    df = df.drop(columns=merge_columns)\n",
    "\n",
    "    new_column_values = pd.DataFrame(df[new_column].value_counts(dropna=False)).reset_index()\n",
    "    new_column_values.columns = ['Vals', f'{new_column}']\n",
    "\n",
    "    debug_display(original_column_values)\n",
    "    debug_display(new_column_values)"
   ]
  },
  {
   "cell_type": "code",
   "execution_count": 75,
   "metadata": {},
   "outputs": [
    {
     "name": "stderr",
     "output_type": "stream",
     "text": [
      "/var/folders/v1/rpt43fxj323_cj0c2q98_b7r0000gn/T/ipykernel_45312/3340840253.py:15: FutureWarning: Setting an item of incompatible dtype is deprecated and will raise an error in a future version of pandas. Value 'S' has dtype incompatible with float64, please explicitly cast to a compatible dtype first.\n",
      "  df.at[index, new_column] = 'S'\n"
     ]
    }
   ],
   "source": [
    "# 3: Question 24\n",
    "\n",
    "new_column = 'Q24'\n",
    "columns_to_merge = ['Q24a', 'Q24b', 'Q24c', 'Q24d']\n",
    "\n",
    "\n",
    "df[new_column] = np.nan\n",
    "\n",
    "original_column_values = pd.concat([df[col].value_counts(dropna=False).rename(col) for col in columns_to_merge], axis=1)\n",
    "original_column_values = original_column_values.reset_index().rename(columns={'index': 'Vals'})\n",
    "\n",
    "for index, row in df.iterrows():\n",
    "    selected_options = []\n",
    "    if any(row[col] == 'S' for col in columns_to_merge):\n",
    "        df.at[index, new_column] = 'S'\n",
    "    elif any(row[col] == 'N' for col in columns_to_merge):\n",
    "        df.at[index, new_column] = 'N'\n",
    "    elif any(row[col] == 'Z' for col in columns_to_merge):\n",
    "        df.at[index, new_column] = 'Z'\n",
    "    else:\n",
    "        for col in columns_to_merge:\n",
    "            try:\n",
    "                if float(row[col]) == 1.0:\n",
    "                    selected_options.append(col)\n",
    "            except (ValueError, TypeError):\n",
    "                continue\n",
    "        if selected_options:\n",
    "            df.at[index, new_column] = ','.join(selected_options)\n",
    "\n",
    "df = df.drop(columns=columns_to_merge)\n",
    "\n",
    "new_column_values = pd.DataFrame(df[new_column].value_counts(dropna=False)).reset_index()\n",
    "new_column_values.columns = ['Vals', f'{new_column}']\n",
    "\n",
    "debug_display(original_column_values)\n",
    "debug_display(new_column_values)"
   ]
  },
  {
   "cell_type": "code",
   "execution_count": 76,
   "metadata": {},
   "outputs": [
    {
     "name": "stderr",
     "output_type": "stream",
     "text": [
      "/var/folders/v1/rpt43fxj323_cj0c2q98_b7r0000gn/T/ipykernel_45312/2398478225.py:14: FutureWarning: Setting an item of incompatible dtype is deprecated and will raise an error in a future version of pandas. Value 'S' has dtype incompatible with float64, please explicitly cast to a compatible dtype first.\n",
      "  df.at[index, new_column] = 'S'\n"
     ]
    }
   ],
   "source": [
    "# 3: Question 29\n",
    "\n",
    "new_column = 'Q29'\n",
    "columns_to_merge = ['Q29a', 'Q29b', 'Q29c', 'Q29d', 'Q29e', 'Q29f', 'Q29g', 'Q29h', 'Q29i', 'Q29j']\n",
    "\n",
    "df[new_column] = np.nan\n",
    "\n",
    "original_column_values = pd.concat([df[col].value_counts(dropna=False).rename(col) for col in columns_to_merge], axis=1)\n",
    "original_column_values = original_column_values.reset_index().rename(columns={'index': 'Vals'})\n",
    "\n",
    "for index, row in df.iterrows():\n",
    "    selected_options = []\n",
    "    if any(row[col] == 'S' for col in columns_to_merge):\n",
    "        df.at[index, new_column] = 'S'\n",
    "    elif any(row[col] == 'N' for col in columns_to_merge):\n",
    "        df.at[index, new_column] = 'N'\n",
    "    elif any(row[col] == 'Z' for col in columns_to_merge):\n",
    "        df.at[index, new_column] = 'Z'\n",
    "    else:\n",
    "        for col in columns_to_merge:\n",
    "            try:\n",
    "                if float(row[col]) == 1.0:\n",
    "                    selected_options.append(col)\n",
    "            except (ValueError, TypeError):\n",
    "                continue\n",
    "        if selected_options:\n",
    "            df.at[index, new_column] = ','.join(selected_options)\n",
    "\n",
    "df = df.drop(columns=columns_to_merge)\n",
    "\n",
    "new_column_values = pd.DataFrame(df[new_column].value_counts(dropna=False)).reset_index()\n",
    "new_column_values.columns = ['Vals', f'{new_column}']\n",
    "\n",
    "debug_display(original_column_values)\n",
    "debug_display(new_column_values)"
   ]
  },
  {
   "cell_type": "code",
   "execution_count": 77,
   "metadata": {},
   "outputs": [
    {
     "name": "stderr",
     "output_type": "stream",
     "text": [
      "/var/folders/v1/rpt43fxj323_cj0c2q98_b7r0000gn/T/ipykernel_45312/2881274988.py:27: FutureWarning: Setting an item of incompatible dtype is deprecated and will raise an error in a future version of pandas. Value 'Q35a,Q35c' has dtype incompatible with float64, please explicitly cast to a compatible dtype first.\n",
      "  df.at[index, new_column] = ','.join(selected_options)\n"
     ]
    }
   ],
   "source": [
    "# 3: Question 35\n",
    "\n",
    "new_column = 'Q35'\n",
    "columns_to_merge = ['Q35a', 'Q35b', 'Q35c', 'Q35d']\n",
    "\n",
    "df[new_column] = np.nan\n",
    "\n",
    "original_column_values = pd.concat([df[col].value_counts(dropna=False).rename(col) for col in columns_to_merge], axis=1)\n",
    "original_column_values = original_column_values.reset_index().rename(columns={'index': 'Vals'})\n",
    "\n",
    "for index, row in df.iterrows():\n",
    "    selected_options = []\n",
    "    if any(row[col] == 'S' for col in columns_to_merge):\n",
    "        df.at[index, new_column] = 'S'\n",
    "    elif any(row[col] == 'N' for col in columns_to_merge):\n",
    "        df.at[index, new_column] = 'N'\n",
    "    elif any(row[col] == 'Z' for col in columns_to_merge):\n",
    "        df.at[index, new_column] = 'Z'\n",
    "    else:\n",
    "        for col in columns_to_merge:\n",
    "            try:\n",
    "                if float(row[col]) == 1.0:\n",
    "                    selected_options.append(col)\n",
    "            except (ValueError, TypeError):\n",
    "                continue\n",
    "        if selected_options:\n",
    "            df.at[index, new_column] = ','.join(selected_options)\n",
    "\n",
    "df = df.drop(columns=columns_to_merge)\n",
    "\n",
    "new_column_values = pd.DataFrame(df[new_column].value_counts(dropna=False)).reset_index()\n",
    "new_column_values.columns = ['Vals', f'{new_column}']\n",
    "\n",
    "debug_display(original_column_values)\n",
    "debug_display(new_column_values)"
   ]
  },
  {
   "cell_type": "code",
   "execution_count": 78,
   "metadata": {},
   "outputs": [
    {
     "name": "stderr",
     "output_type": "stream",
     "text": [
      "/var/folders/v1/rpt43fxj323_cj0c2q98_b7r0000gn/T/ipykernel_45312/3036401526.py:14: FutureWarning: Setting an item of incompatible dtype is deprecated and will raise an error in a future version of pandas. Value 'S' has dtype incompatible with float64, please explicitly cast to a compatible dtype first.\n",
      "  df.at[index, new_column] = 'S'\n"
     ]
    }
   ],
   "source": [
    "# 3: Question 42\n",
    "\n",
    "new_column = 'Q42'\n",
    "columns_to_merge = ['Q42a', 'Q42b', 'Q42c', 'Q42d', 'Q42e', 'Q42f', 'Q42g', 'Q42h', 'Q42i', 'Q42j', 'Q42k', 'Q42l']\n",
    "\n",
    "df[new_column] = np.nan\n",
    "\n",
    "original_column_values = pd.concat([df[col].value_counts(dropna=False).rename(col) for col in columns_to_merge], axis=1)\n",
    "original_column_values = original_column_values.reset_index().rename(columns={'index': 'Vals'})\n",
    "\n",
    "for index, row in df.iterrows():\n",
    "    selected_options = []\n",
    "    if any(row[col] == 'S' for col in columns_to_merge):\n",
    "        df.at[index, new_column] = 'S'\n",
    "    elif any(row[col] == 'N' for col in columns_to_merge):\n",
    "        df.at[index, new_column] = 'N'\n",
    "    elif any(row[col] == 'Z' for col in columns_to_merge):\n",
    "        df.at[index, new_column] = 'Z'\n",
    "    else:\n",
    "        for col in columns_to_merge:\n",
    "            try:\n",
    "                if float(row[col]) == 1.0:\n",
    "                    selected_options.append(col)\n",
    "            except (ValueError, TypeError):\n",
    "                continue\n",
    "        if selected_options:\n",
    "            df.at[index, new_column] = ','.join(selected_options)\n",
    "\n",
    "df = df.drop(columns=columns_to_merge)\n",
    "\n",
    "new_column_values = pd.DataFrame(df[new_column].value_counts(dropna=False)).reset_index()\n",
    "new_column_values.columns = ['Vals', f'{new_column}']\n",
    "\n",
    "debug_display(original_column_values)\n",
    "debug_display(new_column_values)"
   ]
  },
  {
   "cell_type": "code",
   "execution_count": 79,
   "metadata": {},
   "outputs": [
    {
     "name": "stderr",
     "output_type": "stream",
     "text": [
      "/var/folders/v1/rpt43fxj323_cj0c2q98_b7r0000gn/T/ipykernel_45312/142986795.py:14: FutureWarning: Setting an item of incompatible dtype is deprecated and will raise an error in a future version of pandas. Value 'S' has dtype incompatible with float64, please explicitly cast to a compatible dtype first.\n",
      "  df.at[index, new_column] = 'S'\n"
     ]
    }
   ],
   "source": [
    "# 3: Question 56\n",
    "\n",
    "new_column = 'Q56'\n",
    "columns_to_merge = ['Q56a', 'Q56b', 'Q56c', 'Q56d']\n",
    "\n",
    "df[new_column] = np.nan\n",
    "\n",
    "original_column_values = pd.concat([df[col].value_counts(dropna=False).rename(col) for col in columns_to_merge], axis=1)\n",
    "original_column_values = original_column_values.reset_index().rename(columns={'index': 'Vals'})\n",
    "\n",
    "for index, row in df.iterrows():\n",
    "    selected_options = []\n",
    "    if any(row[col] == 'S' for col in columns_to_merge):\n",
    "        df.at[index, new_column] = 'S'\n",
    "    elif any(row[col] == 'N' for col in columns_to_merge):\n",
    "        df.at[index, new_column] = 'N'\n",
    "    elif any(row[col] == 'Z' for col in columns_to_merge):\n",
    "        df.at[index, new_column] = 'Z'\n",
    "    else:\n",
    "        for col in columns_to_merge:\n",
    "            try:\n",
    "                if float(row[col]) == 1.0:\n",
    "                    selected_options.append(col)\n",
    "            except (ValueError, TypeError):\n",
    "                continue\n",
    "        if selected_options:\n",
    "            df.at[index, new_column] = ','.join(selected_options)\n",
    "\n",
    "df = df.drop(columns=columns_to_merge)\n",
    "\n",
    "new_column_values = pd.DataFrame(df[new_column].value_counts(dropna=False)).reset_index()\n",
    "new_column_values.columns = ['Vals', f'{new_column}']\n",
    "\n",
    "debug_display(original_column_values)\n",
    "debug_display(new_column_values)"
   ]
  },
  {
   "cell_type": "code",
   "execution_count": 80,
   "metadata": {},
   "outputs": [
    {
     "name": "stderr",
     "output_type": "stream",
     "text": [
      "/var/folders/v1/rpt43fxj323_cj0c2q98_b7r0000gn/T/ipykernel_45312/2435505157.py:17: FutureWarning: Setting an item of incompatible dtype is deprecated and will raise an error in a future version of pandas. Value 'S' has dtype incompatible with float64, please explicitly cast to a compatible dtype first.\n",
      "  df.at[index, new_column] = 'S'\n"
     ]
    }
   ],
   "source": [
    "# 3: Question 57\n",
    "\n",
    "new_column = 'Q56'\n",
    "columns_to_merge = [\n",
    "    'Q57a', 'Q57b', 'Q57c', 'Q57d', 'Q57e', 'Q57f', 'Q57g', 'Q57h', \n",
    "    'Q57i', 'Q57j', 'Q57k', 'Q57l', 'Q57m', 'Q57n'\n",
    "]\n",
    "\n",
    "df[new_column] = np.nan\n",
    "\n",
    "original_column_values = pd.concat([df[col].value_counts(dropna=False).rename(col) for col in columns_to_merge], axis=1)\n",
    "original_column_values = original_column_values.reset_index().rename(columns={'index': 'Vals'})\n",
    "\n",
    "for index, row in df.iterrows():\n",
    "    selected_options = []\n",
    "    if any(row[col] == 'S' for col in columns_to_merge):\n",
    "        df.at[index, new_column] = 'S'\n",
    "    elif any(row[col] == 'N' for col in columns_to_merge):\n",
    "        df.at[index, new_column] = 'N'\n",
    "    elif any(row[col] == 'Z' for col in columns_to_merge):\n",
    "        df.at[index, new_column] = 'Z'\n",
    "    else:\n",
    "        for col in columns_to_merge:\n",
    "            try:\n",
    "                if float(row[col]) == 1.0:\n",
    "                    selected_options.append(col)\n",
    "            except (ValueError, TypeError):\n",
    "                continue\n",
    "        if selected_options:\n",
    "            df.at[index, new_column] = ','.join(selected_options)\n",
    "\n",
    "df = df.drop(columns=columns_to_merge)\n",
    "\n",
    "new_column_values = pd.DataFrame(df[new_column].value_counts(dropna=False)).reset_index()\n",
    "new_column_values.columns = ['Vals', f'{new_column}']\n",
    "\n",
    "debug_display(original_column_values)\n",
    "debug_display(new_column_values)"
   ]
  },
  {
   "cell_type": "code",
   "execution_count": 81,
   "metadata": {},
   "outputs": [
    {
     "name": "stderr",
     "output_type": "stream",
     "text": [
      "/var/folders/v1/rpt43fxj323_cj0c2q98_b7r0000gn/T/ipykernel_45312/1183940019.py:17: FutureWarning: Setting an item of incompatible dtype is deprecated and will raise an error in a future version of pandas. Value 'S' has dtype incompatible with float64, please explicitly cast to a compatible dtype first.\n",
      "  df.at[index, new_column] = 'S'\n"
     ]
    }
   ],
   "source": [
    "# 3: Question 70\n",
    "\n",
    "new_column = 'Q70'\n",
    "columns_to_merge = [\n",
    "    'Q70a', 'Q70b', 'Q70c', 'Q70d', 'Q70e', 'Q70f', 'Q70g', 'Q70h', \n",
    "    'Q70i', 'Q70j', 'Q70k', 'Q70l'\n",
    "]\n",
    "\n",
    "df[new_column] = np.nan\n",
    "\n",
    "original_column_values = pd.concat([df[col].value_counts(dropna=False).rename(col) for col in columns_to_merge], axis=1)\n",
    "original_column_values = original_column_values.reset_index().rename(columns={'index': 'Vals'})\n",
    "\n",
    "for index, row in df.iterrows():\n",
    "    selected_options = []\n",
    "    if any(row[col] == 'S' for col in columns_to_merge):\n",
    "        df.at[index, new_column] = 'S'\n",
    "    elif any(row[col] == 'N' for col in columns_to_merge):\n",
    "        df.at[index, new_column] = 'N'\n",
    "    elif any(row[col] == 'Z' for col in columns_to_merge):\n",
    "        df.at[index, new_column] = 'Z'\n",
    "    else:\n",
    "        for col in columns_to_merge:\n",
    "            try:\n",
    "                if float(row[col]) == 1.0:\n",
    "                    selected_options.append(col)\n",
    "            except (ValueError, TypeError):\n",
    "                continue\n",
    "        if selected_options:\n",
    "            df.at[index, new_column] = ','.join(selected_options)\n",
    "\n",
    "df = df.drop(columns=columns_to_merge)\n",
    "\n",
    "new_column_values = pd.DataFrame(df[new_column].value_counts(dropna=False)).reset_index()\n",
    "new_column_values.columns = ['Vals', f'{new_column}']\n",
    "\n",
    "debug_display(original_column_values)\n",
    "debug_display(new_column_values)"
   ]
  },
  {
   "cell_type": "code",
   "execution_count": 82,
   "metadata": {},
   "outputs": [
    {
     "name": "stderr",
     "output_type": "stream",
     "text": [
      "/var/folders/v1/rpt43fxj323_cj0c2q98_b7r0000gn/T/ipykernel_45312/846955765.py:17: FutureWarning: Setting an item of incompatible dtype is deprecated and will raise an error in a future version of pandas. Value 'S' has dtype incompatible with float64, please explicitly cast to a compatible dtype first.\n",
      "  df.at[index, new_column] = 'S'\n"
     ]
    }
   ],
   "source": [
    "# 3: Question 79\n",
    "\n",
    "new_column = 'Q79'\n",
    "columns_to_merge = [\n",
    "    'Q79a', 'Q79b', 'Q79c', 'Q79d', 'Q79e', 'Q79f', 'Q79g', 'Q79h', 'Q79i'\n",
    "]\n",
    "\n",
    "\n",
    "df[new_column] = np.nan\n",
    "\n",
    "original_column_values = pd.concat([df[col].value_counts(dropna=False).rename(col) for col in columns_to_merge], axis=1)\n",
    "original_column_values = original_column_values.reset_index().rename(columns={'index': 'Vals'})\n",
    "\n",
    "for index, row in df.iterrows():\n",
    "    selected_options = []\n",
    "    if any(row[col] == 'S' for col in columns_to_merge):\n",
    "        df.at[index, new_column] = 'S'\n",
    "    elif any(row[col] == 'N' for col in columns_to_merge):\n",
    "        df.at[index, new_column] = 'N'\n",
    "    elif any(row[col] == 'Z' for col in columns_to_merge):\n",
    "        df.at[index, new_column] = 'Z'\n",
    "    else:\n",
    "        for col in columns_to_merge:\n",
    "            try:\n",
    "                if float(row[col]) == 1.0:\n",
    "                    selected_options.append(col)\n",
    "            except (ValueError, TypeError):\n",
    "                continue\n",
    "        if selected_options:\n",
    "            df.at[index, new_column] = ','.join(selected_options)\n",
    "\n",
    "df = df.drop(columns=columns_to_merge)\n",
    "\n",
    "new_column_values = pd.DataFrame(df[new_column].value_counts(dropna=False)).reset_index()\n",
    "new_column_values.columns = ['Vals', f'{new_column}']\n",
    "\n",
    "debug_display(original_column_values)\n",
    "debug_display(new_column_values)"
   ]
  },
  {
   "cell_type": "code",
   "execution_count": 83,
   "metadata": {},
   "outputs": [
    {
     "name": "stderr",
     "output_type": "stream",
     "text": [
      "/var/folders/v1/rpt43fxj323_cj0c2q98_b7r0000gn/T/ipykernel_45312/157748106.py:27: FutureWarning: Setting an item of incompatible dtype is deprecated and will raise an error in a future version of pandas. Value 'Q88c,Q88f' has dtype incompatible with float64, please explicitly cast to a compatible dtype first.\n",
      "  df.at[index, new_column] = ','.join(selected_options)\n"
     ]
    }
   ],
   "source": [
    "# 3: Question 88\n",
    "\n",
    "new_column = 'Q88'\n",
    "columns_to_merge = ['Q88a', 'Q88b', 'Q88c', 'Q88d', 'Q88e', 'Q88f']\n",
    "\n",
    "df[new_column] = np.nan\n",
    "\n",
    "original_column_values = pd.concat([df[col].value_counts(dropna=False).rename(col) for col in columns_to_merge], axis=1)\n",
    "original_column_values = original_column_values.reset_index().rename(columns={'index': 'Vals'})\n",
    "\n",
    "for index, row in df.iterrows():\n",
    "    selected_options = []\n",
    "    if any(row[col] == 'S' for col in columns_to_merge):\n",
    "        df.at[index, new_column] = 'S'\n",
    "    elif any(row[col] == 'N' for col in columns_to_merge):\n",
    "        df.at[index, new_column] = 'N'\n",
    "    elif any(row[col] == 'Z' for col in columns_to_merge):\n",
    "        df.at[index, new_column] = 'Z'\n",
    "    else:\n",
    "        for col in columns_to_merge:\n",
    "            try:\n",
    "                if float(row[col]) == 1.0:\n",
    "                    selected_options.append(col)\n",
    "            except (ValueError, TypeError):\n",
    "                continue\n",
    "        if selected_options:\n",
    "            df.at[index, new_column] = ','.join(selected_options)\n",
    "\n",
    "df = df.drop(columns=columns_to_merge)\n",
    "\n",
    "new_column_values = pd.DataFrame(df[new_column].value_counts(dropna=False)).reset_index()\n",
    "new_column_values.columns = ['Vals', f'{new_column}']\n",
    "\n",
    "debug_display(original_column_values)\n",
    "debug_display(new_column_values)"
   ]
  },
  {
   "cell_type": "code",
   "execution_count": 84,
   "metadata": {},
   "outputs": [
    {
     "name": "stderr",
     "output_type": "stream",
     "text": [
      "/var/folders/v1/rpt43fxj323_cj0c2q98_b7r0000gn/T/ipykernel_45312/3669171139.py:20: FutureWarning: Setting an item of incompatible dtype is deprecated and will raise an error in a future version of pandas. Value 'Z' has dtype incompatible with float64, please explicitly cast to a compatible dtype first.\n",
      "  df.at[index, new_column] = 'Z'\n"
     ]
    }
   ],
   "source": [
    "# 3: Question 123\n",
    "\n",
    "new_column = 'Q123'\n",
    "columns_to_merge = [\n",
    "    'Q123a', 'Q123b', 'Q123c', 'Q123d', 'Q123e', 'Q123f', 'Q123g', 'Q123h', 'Q123i'\n",
    "]\n",
    "\n",
    "df[new_column] = np.nan\n",
    "\n",
    "original_column_values = pd.concat([df[col].value_counts(dropna=False).rename(col) for col in columns_to_merge], axis=1)\n",
    "original_column_values = original_column_values.reset_index().rename(columns={'index': 'Vals'})\n",
    "\n",
    "for index, row in df.iterrows():\n",
    "    selected_options = []\n",
    "    if any(row[col] == 'S' for col in columns_to_merge):\n",
    "        df.at[index, new_column] = 'S'\n",
    "    elif any(row[col] == 'N' for col in columns_to_merge):\n",
    "        df.at[index, new_column] = 'N'\n",
    "    elif any(row[col] == 'Z' for col in columns_to_merge):\n",
    "        df.at[index, new_column] = 'Z'\n",
    "    else:\n",
    "        for col in columns_to_merge:\n",
    "            try:\n",
    "                if float(row[col]) == 1.0:\n",
    "                    selected_options.append(col)\n",
    "            except (ValueError, TypeError):\n",
    "                continue\n",
    "        if selected_options:\n",
    "            df.at[index, new_column] = ','.join(selected_options)\n",
    "\n",
    "df = df.drop(columns=columns_to_merge)\n",
    "\n",
    "new_column_values = pd.DataFrame(df[new_column].value_counts(dropna=False)).reset_index()\n",
    "new_column_values.columns = ['Vals', f'{new_column}']\n",
    "\n",
    "debug_display(original_column_values)\n",
    "debug_display(new_column_values)"
   ]
  },
  {
   "cell_type": "code",
   "execution_count": 85,
   "metadata": {},
   "outputs": [
    {
     "name": "stderr",
     "output_type": "stream",
     "text": [
      "/var/folders/v1/rpt43fxj323_cj0c2q98_b7r0000gn/T/ipykernel_45312/2011534432.py:20: FutureWarning: Setting an item of incompatible dtype is deprecated and will raise an error in a future version of pandas. Value 'Z' has dtype incompatible with float64, please explicitly cast to a compatible dtype first.\n",
      "  df.at[index, new_column] = 'Z'\n"
     ]
    }
   ],
   "source": [
    "# 3: Question 126\n",
    "\n",
    "new_column = 'Q126'\n",
    "columns_to_merge = [\n",
    "    'Q126a', 'Q126b', 'Q126c', 'Q126d', 'Q126e', 'Q126f', 'Q126g'\n",
    "]\n",
    "\n",
    "df[new_column] = np.nan\n",
    "\n",
    "original_column_values = pd.concat([df[col].value_counts(dropna=False).rename(col) for col in columns_to_merge], axis=1)\n",
    "original_column_values = original_column_values.reset_index().rename(columns={'index': 'Vals'})\n",
    "\n",
    "for index, row in df.iterrows():\n",
    "    selected_options = []\n",
    "    if any(row[col] == 'S' for col in columns_to_merge):\n",
    "        df.at[index, new_column] = 'S'\n",
    "    elif any(row[col] == 'N' for col in columns_to_merge):\n",
    "        df.at[index, new_column] = 'N'\n",
    "    elif any(row[col] == 'Z' for col in columns_to_merge):\n",
    "        df.at[index, new_column] = 'Z'\n",
    "    else:\n",
    "        for col in columns_to_merge:\n",
    "            try:\n",
    "                if float(row[col]) == 1.0:\n",
    "                    selected_options.append(col)\n",
    "            except (ValueError, TypeError):\n",
    "                continue\n",
    "        if selected_options:\n",
    "            df.at[index, new_column] = ','.join(selected_options)\n",
    "\n",
    "df = df.drop(columns=columns_to_merge)\n",
    "\n",
    "new_column_values = pd.DataFrame(df[new_column].value_counts(dropna=False)).reset_index()\n",
    "new_column_values.columns = ['Vals', f'{new_column}']\n",
    "\n",
    "debug_display(original_column_values)\n",
    "debug_display(new_column_values)"
   ]
  },
  {
   "cell_type": "code",
   "execution_count": 86,
   "metadata": {},
   "outputs": [
    {
     "name": "stderr",
     "output_type": "stream",
     "text": [
      "/var/folders/v1/rpt43fxj323_cj0c2q98_b7r0000gn/T/ipykernel_45312/3632101562.py:20: FutureWarning: Setting an item of incompatible dtype is deprecated and will raise an error in a future version of pandas. Value 'Z' has dtype incompatible with float64, please explicitly cast to a compatible dtype first.\n",
      "  df.at[index, new_column] = 'Z'\n"
     ]
    }
   ],
   "source": [
    "# 3: Question 135\n",
    "\n",
    "new_column = 'Q135'\n",
    "columns_to_merge = [\n",
    "    'Q135a', 'Q135b', 'Q135c', 'Q135d', 'Q135e', 'Q135f'\n",
    "]\n",
    "\n",
    "df[new_column] = np.nan\n",
    "\n",
    "original_column_values = pd.concat([df[col].value_counts(dropna=False).rename(col) for col in columns_to_merge], axis=1)\n",
    "original_column_values = original_column_values.reset_index().rename(columns={'index': 'Vals'})\n",
    "\n",
    "for index, row in df.iterrows():\n",
    "    selected_options = []\n",
    "    if any(row[col] == 'S' for col in columns_to_merge):\n",
    "        df.at[index, new_column] = 'S'\n",
    "    elif any(row[col] == 'N' for col in columns_to_merge):\n",
    "        df.at[index, new_column] = 'N'\n",
    "    elif any(row[col] == 'Z' for col in columns_to_merge):\n",
    "        df.at[index, new_column] = 'Z'\n",
    "    else:\n",
    "        for col in columns_to_merge:\n",
    "            try:\n",
    "                if float(row[col]) == 1.0:\n",
    "                    selected_options.append(col)\n",
    "            except (ValueError, TypeError):\n",
    "                continue\n",
    "        if selected_options:\n",
    "            df.at[index, new_column] = ','.join(selected_options)\n",
    "\n",
    "df = df.drop(columns=columns_to_merge)\n",
    "\n",
    "new_column_values = pd.DataFrame(df[new_column].value_counts(dropna=False)).reset_index()\n",
    "new_column_values.columns = ['Vals', f'{new_column}']\n",
    "\n",
    "debug_display(original_column_values)\n",
    "debug_display(new_column_values)"
   ]
  },
  {
   "cell_type": "code",
   "execution_count": 87,
   "metadata": {},
   "outputs": [
    {
     "name": "stderr",
     "output_type": "stream",
     "text": [
      "/var/folders/v1/rpt43fxj323_cj0c2q98_b7r0000gn/T/ipykernel_45312/3102794233.py:21: FutureWarning: Setting an item of incompatible dtype is deprecated and will raise an error in a future version of pandas. Value 'Z' has dtype incompatible with float64, please explicitly cast to a compatible dtype first.\n",
      "  df.at[index, new_column] = 'Z'\n"
     ]
    }
   ],
   "source": [
    "# 3: Question 136\n",
    "\n",
    "new_column = 'Q136'\n",
    "columns_to_merge = [\n",
    "    'Q136a', 'Q136b', 'Q136c', 'Q136d', 'Q136e', 'Q136f', 'Q136g', 'Q136h', \n",
    "    'Q136i', 'Q136j', 'Q136k', 'Q136l', 'Q136m'\n",
    "]\n",
    "\n",
    "df[new_column] = np.nan\n",
    "\n",
    "original_column_values = pd.concat([df[col].value_counts(dropna=False).rename(col) for col in columns_to_merge], axis=1)\n",
    "original_column_values = original_column_values.reset_index().rename(columns={'index': 'Vals'})\n",
    "\n",
    "for index, row in df.iterrows():\n",
    "    selected_options = []\n",
    "    if any(row[col] == 'S' for col in columns_to_merge):\n",
    "        df.at[index, new_column] = 'S'\n",
    "    elif any(row[col] == 'N' for col in columns_to_merge):\n",
    "        df.at[index, new_column] = 'N'\n",
    "    elif any(row[col] == 'Z' for col in columns_to_merge):\n",
    "        df.at[index, new_column] = 'Z'\n",
    "    else:\n",
    "        for col in columns_to_merge:\n",
    "            try:\n",
    "                if float(row[col]) == 1.0:\n",
    "                    selected_options.append(col)\n",
    "            except (ValueError, TypeError):\n",
    "                continue\n",
    "        if selected_options:\n",
    "            df.at[index, new_column] = ','.join(selected_options)\n",
    "\n",
    "df = df.drop(columns=columns_to_merge)\n",
    "\n",
    "new_column_values = pd.DataFrame(df[new_column].value_counts(dropna=False)).reset_index()\n",
    "new_column_values.columns = ['Vals', f'{new_column}']\n",
    "\n",
    "debug_display(original_column_values)\n",
    "debug_display(new_column_values)"
   ]
  },
  {
   "cell_type": "code",
   "execution_count": 88,
   "metadata": {},
   "outputs": [
    {
     "name": "stderr",
     "output_type": "stream",
     "text": [
      "/var/folders/v1/rpt43fxj323_cj0c2q98_b7r0000gn/T/ipykernel_45312/394031445.py:21: FutureWarning: Setting an item of incompatible dtype is deprecated and will raise an error in a future version of pandas. Value 'Z' has dtype incompatible with float64, please explicitly cast to a compatible dtype first.\n",
      "  df.at[index, new_column] = 'Z'\n"
     ]
    }
   ],
   "source": [
    "# 3: Question 137\n",
    "\n",
    "new_column = 'Q137'\n",
    "columns_to_merge = [\n",
    "    'Q137a', 'Q137b', 'Q137c', 'Q137d', 'Q137e', 'Q137f', 'Q137g', 'Q137h', \n",
    "    'Q137i', 'Q137j', 'Q137k', 'Q137l', 'Q137m', 'Q137n', 'Q137o'\n",
    "]\n",
    "\n",
    "df[new_column] = np.nan\n",
    "\n",
    "original_column_values = pd.concat([df[col].value_counts(dropna=False).rename(col) for col in columns_to_merge], axis=1)\n",
    "original_column_values = original_column_values.reset_index().rename(columns={'index': 'Vals'})\n",
    "\n",
    "for index, row in df.iterrows():\n",
    "    selected_options = []\n",
    "    if any(row[col] == 'S' for col in columns_to_merge):\n",
    "        df.at[index, new_column] = 'S'\n",
    "    elif any(row[col] == 'N' for col in columns_to_merge):\n",
    "        df.at[index, new_column] = 'N'\n",
    "    elif any(row[col] == 'Z' for col in columns_to_merge):\n",
    "        df.at[index, new_column] = 'Z'\n",
    "    else:\n",
    "        for col in columns_to_merge:\n",
    "            try:\n",
    "                if float(row[col]) == 1.0 or float(row[col]) == 2.0:\n",
    "                    selected_options.append(col)\n",
    "            except (ValueError, TypeError):\n",
    "                continue\n",
    "        if selected_options:\n",
    "            df.at[index, new_column] = ','.join(selected_options)\n",
    "\n",
    "df = df.drop(columns=columns_to_merge)\n",
    "\n",
    "new_column_values = pd.DataFrame(df[new_column].value_counts(dropna=False)).reset_index()\n",
    "new_column_values.columns = ['Vals', f'{new_column}']\n",
    "\n",
    "debug_display(original_column_values)\n",
    "debug_display(new_column_values)"
   ]
  },
  {
   "cell_type": "markdown",
   "metadata": {},
   "source": [
    "### Search for high missing count ratio (indicates bad code)"
   ]
  },
  {
   "cell_type": "code",
   "execution_count": 89,
   "metadata": {},
   "outputs": [],
   "source": [
    "# Any high missing count indiciates a coding mistake, as all should be accounted for (very low missing persentage > 1%).\n",
    "# Theses are NaN's that aren't S, N, or Z.\n",
    "missing_values = df.isnull().mean().sort_values(ascending=False) * 100\n",
    "debug_display(missing_values[missing_values > 0]) "
   ]
  },
  {
   "cell_type": "markdown",
   "metadata": {},
   "source": [
    "Export a smaller set for better view and chatgpt use"
   ]
  },
  {
   "cell_type": "code",
   "execution_count": 90,
   "metadata": {},
   "outputs": [],
   "source": [
    "# Select the first 200 rows\n",
    "# subset_df = df.head(200)\n",
    "\n",
    "# Save the subset to a new CSV file\n",
    "# subset_df.to_csv('subset_data.csv', index=False)"
   ]
  },
  {
   "cell_type": "markdown",
   "metadata": {},
   "source": [
    "### 4. Handle Missing Values"
   ]
  },
  {
   "cell_type": "code",
   "execution_count": 93,
   "metadata": {},
   "outputs": [],
   "source": [
    "# Drop all the rows with missing values (those that are not N, S, or Z.)\n",
    "missing_counts = df.isna().sum()\n",
    "\n",
    "for column, count in missing_counts.items():\n",
    "    if count > 0:\n",
    "        debug_print(f\"Column {column}: {count} missing values\")\n",
    "\n",
    "df_cleaned = df.dropna()\n",
    "\n",
    "debug_print(f\"Remaining rows in the DataFrame: {len(df_cleaned)}\")"
   ]
  },
  {
   "cell_type": "markdown",
   "metadata": {},
   "source": [
    "# 5. Create Target Feature"
   ]
  },
  {
   "cell_type": "code",
   "execution_count": 92,
   "metadata": {},
   "outputs": [
    {
     "name": "stdout",
     "output_type": "stream",
     "text": [
      "Counts in Q_target:\n",
      "Q_target\n",
      "2.0    19341\n",
      "1.0     1877\n",
      "Name: count, dtype: int64\n",
      "Remaining rows in the DataFrame: 21218\n"
     ]
    }
   ],
   "source": [
    "# Target feature: Q_target: 1 => User, 2 => Non-user \n",
    "df['Q_target'] = df['Q100'].apply(\n",
    "    lambda x: 1 if (pd.to_numeric(x, errors='coerce') in range(1, 31) or x == 'N') else (2 if x == 'S' else None)\n",
    ")\n",
    "\n",
    "df = df.dropna(subset=['Q_target'])\n",
    "df = df.drop(columns=['Q100'])\n",
    "q_target_counts = df['Q_target'].value_counts()\n",
    "\n",
    "debug_print(f\"Counts in Q_target:\\n{q_target_counts}\")\n",
    "debug_print(f\"Remaining rows in the DataFrame: {len(df)}\")\n"
   ]
  }
 ],
 "metadata": {
  "kernelspec": {
   "display_name": ".venv",
   "language": "python",
   "name": "python3"
  },
  "language_info": {
   "codemirror_mode": {
    "name": "ipython",
    "version": 3
   },
   "file_extension": ".py",
   "mimetype": "text/x-python",
   "name": "python",
   "nbconvert_exporter": "python",
   "pygments_lexer": "ipython3",
   "version": "3.13.0"
  }
 },
 "nbformat": 4,
 "nbformat_minor": 2
}
